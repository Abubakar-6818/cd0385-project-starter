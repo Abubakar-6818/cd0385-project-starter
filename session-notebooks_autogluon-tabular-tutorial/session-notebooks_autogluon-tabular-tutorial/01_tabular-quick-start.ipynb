{
 "cells": [
  {
   "cell_type": "markdown",
   "id": "405d657c",
   "metadata": {},
   "source": [
    "# AutoGluon Tabular - Quick Start\n",
    "\n",
    "[![Open In Colab](https://colab.research.google.com/assets/colab-badge.svg)](https://colab.research.google.com/github/autogluon/autogluon/blob/master/docs/tutorials/tabular/tabular-quick-start.ipynb)\n",
    "[![Open In SageMaker Studio Lab](https://studiolab.sagemaker.aws/studiolab.svg)](https://studiolab.sagemaker.aws/import/github/autogluon/autogluon/blob/master/docs/tutorials/tabular/tabular-quick-start.ipynb)\n",
    "\n",
    "In this tutorial, we will see how to use AutoGluon's `TabularPredictor` to predict the values of a target column based on the other columns in a tabular dataset.\n",
    "\n",
    "Begin by making sure AutoGluon is installed, and then import AutoGluon's `TabularDataset` and `TabularPredictor`. We will use the former to load data and the latter to train models and make predictions. "
   ]
  },
  {
   "cell_type": "code",
   "execution_count": null,
   "id": "1a4618dc-6c65-46ae-835a-deb16f5521ae",
   "metadata": {},
   "outputs": [],
   "source": [
    "!pip install -U pip\n",
    "!pip install -U setuptools wheel\n",
    "!pip install torch==2.1.2 torchvision==0.16.2 --index-url https://download.pytorch.org/whl/cpu\n",
    "!apt-get update; apt-get install -y graphviz graphviz-dev\n",
    "!pip install autogluon kaggle pygraphviz dask[dataframe]"
   ]
  },
  {
   "cell_type": "code",
   "execution_count": 5,
   "id": "0e7a5c52",
   "metadata": {},
   "outputs": [],
   "source": [
    "from autogluon.tabular import TabularDataset, TabularPredictor"
   ]
  },
  {
   "cell_type": "markdown",
   "id": "44e78a75",
   "metadata": {},
   "source": [
    "## Example Data"
   ]
  },
  {
   "cell_type": "markdown",
   "id": "1d37053d",
   "metadata": {},
   "source": [
    "For this tutorial we will use a dataset from the cover story of [Nature issue 7887](https://www.nature.com/nature/volumes/600/issues/7887): [AI-guided intuition for math theorems](https://www.nature.com/articles/s41586-021-04086-x.pdf). The goal is to predict a knot's signature based on its properties. We sampled 10K training and 5K test examples from the [original data](https://github.com/deepmind/mathematics_conjectures/blob/main/knot_theory.ipynb). The sampled dataset make this tutorial run quickly, but AutoGluon can handle the full dataset if desired.\n",
    "\n",
    "We load this dataset directly from a URL. AutoGluon's `TabularDataset` is a subclass of pandas [DataFrame](https://pandas.pydata.org/docs/reference/api/pandas.DataFrame.html), so any `DataFrame` methods can be used on `TabularDataset` as well."
   ]
  },
  {
   "cell_type": "code",
   "execution_count": 6,
   "id": "b30f51e3-f89c-4dec-9158-fe364ff3f60e",
   "metadata": {},
   "outputs": [],
   "source": [
    "data_url = 'https://raw.githubusercontent.com/mli/ag-docs/main/knot_theory/'"
   ]
  },
  {
   "cell_type": "code",
   "execution_count": 7,
   "id": "e9d5aa6a-7c69-4bec-bace-a292caf3f2ba",
   "metadata": {},
   "outputs": [],
   "source": [
    "!mkdir -p data/knot_theory"
   ]
  },
  {
   "cell_type": "code",
   "execution_count": 8,
   "id": "cdfd932e-2916-4311-803f-92201aeea737",
   "metadata": {},
   "outputs": [
    {
     "name": "stdout",
     "output_type": "stream",
     "text": [
      "--2024-04-28 18:39:50--  https://raw.githubusercontent.com/mli/ag-docs/main/knot_theory/train.csv\n",
      "Resolving raw.githubusercontent.com (raw.githubusercontent.com)... 185.199.109.133, 185.199.110.133, 185.199.111.133, ...\n",
      "Connecting to raw.githubusercontent.com (raw.githubusercontent.com)|185.199.109.133|:443... connected.\n",
      "HTTP request sent, awaiting response... 200 OK\n",
      "Length: 2068450 (2.0M) [text/plain]\n",
      "Saving to: ‘data/knot_theory/train.csv’\n",
      "\n",
      "data/knot_theory/tr 100%[===================>]   1.97M  --.-KB/s    in 0.01s   \n",
      "\n",
      "2024-04-28 18:39:50 (150 MB/s) - ‘data/knot_theory/train.csv’ saved [2068450/2068450]\n",
      "\n",
      "--2024-04-28 18:39:50--  https://raw.githubusercontent.com/mli/ag-docs/main/knot_theory/test.csv\n",
      "Resolving raw.githubusercontent.com (raw.githubusercontent.com)... 185.199.108.133, 185.199.111.133, 185.199.110.133, ...\n",
      "Connecting to raw.githubusercontent.com (raw.githubusercontent.com)|185.199.108.133|:443... connected.\n",
      "HTTP request sent, awaiting response... 200 OK\n",
      "Length: 1034198 (1010K) [text/plain]\n",
      "Saving to: ‘data/knot_theory/test.csv’\n",
      "\n",
      "data/knot_theory/te 100%[===================>]   1010K  --.-KB/s    in 0.006s  \n",
      "\n",
      "2024-04-28 18:39:50 (177 MB/s) - ‘data/knot_theory/test.csv’ saved [1034198/1034198]\n",
      "\n"
     ]
    }
   ],
   "source": [
    "!wget -O data/knot_theory/train.csv {data_url}train.csv\n",
    "!wget -O data/knot_theory/test.csv {data_url}test.csv"
   ]
  },
  {
   "cell_type": "code",
   "execution_count": 9,
   "id": "d08465cb-072d-4ef9-b986-32d729a39c1b",
   "metadata": {},
   "outputs": [
    {
     "data": {
      "text/html": [
       "<div>\n",
       "<style scoped>\n",
       "    .dataframe tbody tr th:only-of-type {\n",
       "        vertical-align: middle;\n",
       "    }\n",
       "\n",
       "    .dataframe tbody tr th {\n",
       "        vertical-align: top;\n",
       "    }\n",
       "\n",
       "    .dataframe thead th {\n",
       "        text-align: right;\n",
       "    }\n",
       "</style>\n",
       "<table border=\"1\" class=\"dataframe\">\n",
       "  <thead>\n",
       "    <tr style=\"text-align: right;\">\n",
       "      <th></th>\n",
       "      <th>Unnamed: 0</th>\n",
       "      <th>chern_simons</th>\n",
       "      <th>cusp_volume</th>\n",
       "      <th>hyperbolic_adjoint_torsion_degree</th>\n",
       "      <th>hyperbolic_torsion_degree</th>\n",
       "      <th>injectivity_radius</th>\n",
       "      <th>longitudinal_translation</th>\n",
       "      <th>meridinal_translation_imag</th>\n",
       "      <th>meridinal_translation_real</th>\n",
       "      <th>short_geodesic_imag_part</th>\n",
       "      <th>short_geodesic_real_part</th>\n",
       "      <th>Symmetry_0</th>\n",
       "      <th>Symmetry_D3</th>\n",
       "      <th>Symmetry_D4</th>\n",
       "      <th>Symmetry_D6</th>\n",
       "      <th>Symmetry_D8</th>\n",
       "      <th>Symmetry_Z/2 + Z/2</th>\n",
       "      <th>volume</th>\n",
       "      <th>signature</th>\n",
       "    </tr>\n",
       "  </thead>\n",
       "  <tbody>\n",
       "    <tr>\n",
       "      <th>0</th>\n",
       "      <td>70746</td>\n",
       "      <td>0.090530</td>\n",
       "      <td>12.226322</td>\n",
       "      <td>0</td>\n",
       "      <td>10</td>\n",
       "      <td>0.507756</td>\n",
       "      <td>10.685555</td>\n",
       "      <td>1.144192</td>\n",
       "      <td>-0.519157</td>\n",
       "      <td>-2.760601</td>\n",
       "      <td>1.015512</td>\n",
       "      <td>0.0</td>\n",
       "      <td>0.0</td>\n",
       "      <td>0.0</td>\n",
       "      <td>0.0</td>\n",
       "      <td>0.0</td>\n",
       "      <td>1.0</td>\n",
       "      <td>11.393225</td>\n",
       "      <td>-2</td>\n",
       "    </tr>\n",
       "    <tr>\n",
       "      <th>1</th>\n",
       "      <td>240827</td>\n",
       "      <td>0.232453</td>\n",
       "      <td>13.800773</td>\n",
       "      <td>0</td>\n",
       "      <td>14</td>\n",
       "      <td>0.413645</td>\n",
       "      <td>10.453156</td>\n",
       "      <td>1.320249</td>\n",
       "      <td>-0.158522</td>\n",
       "      <td>-3.013258</td>\n",
       "      <td>0.827289</td>\n",
       "      <td>0.0</td>\n",
       "      <td>0.0</td>\n",
       "      <td>0.0</td>\n",
       "      <td>0.0</td>\n",
       "      <td>0.0</td>\n",
       "      <td>1.0</td>\n",
       "      <td>12.742782</td>\n",
       "      <td>0</td>\n",
       "    </tr>\n",
       "    <tr>\n",
       "      <th>2</th>\n",
       "      <td>155659</td>\n",
       "      <td>-0.144099</td>\n",
       "      <td>14.761030</td>\n",
       "      <td>0</td>\n",
       "      <td>14</td>\n",
       "      <td>0.436928</td>\n",
       "      <td>13.405199</td>\n",
       "      <td>1.101142</td>\n",
       "      <td>0.768894</td>\n",
       "      <td>2.233106</td>\n",
       "      <td>0.873856</td>\n",
       "      <td>0.0</td>\n",
       "      <td>0.0</td>\n",
       "      <td>0.0</td>\n",
       "      <td>0.0</td>\n",
       "      <td>0.0</td>\n",
       "      <td>0.0</td>\n",
       "      <td>15.236505</td>\n",
       "      <td>2</td>\n",
       "    </tr>\n",
       "    <tr>\n",
       "      <th>3</th>\n",
       "      <td>239963</td>\n",
       "      <td>-0.171668</td>\n",
       "      <td>13.738019</td>\n",
       "      <td>0</td>\n",
       "      <td>22</td>\n",
       "      <td>0.249481</td>\n",
       "      <td>27.819496</td>\n",
       "      <td>0.493827</td>\n",
       "      <td>-1.188718</td>\n",
       "      <td>-2.042771</td>\n",
       "      <td>0.498961</td>\n",
       "      <td>0.0</td>\n",
       "      <td>0.0</td>\n",
       "      <td>0.0</td>\n",
       "      <td>0.0</td>\n",
       "      <td>0.0</td>\n",
       "      <td>0.0</td>\n",
       "      <td>17.279890</td>\n",
       "      <td>-8</td>\n",
       "    </tr>\n",
       "    <tr>\n",
       "      <th>4</th>\n",
       "      <td>90504</td>\n",
       "      <td>0.235188</td>\n",
       "      <td>15.896359</td>\n",
       "      <td>0</td>\n",
       "      <td>10</td>\n",
       "      <td>0.389329</td>\n",
       "      <td>15.330971</td>\n",
       "      <td>1.036879</td>\n",
       "      <td>0.722828</td>\n",
       "      <td>-3.056138</td>\n",
       "      <td>0.778658</td>\n",
       "      <td>0.0</td>\n",
       "      <td>0.0</td>\n",
       "      <td>0.0</td>\n",
       "      <td>0.0</td>\n",
       "      <td>0.0</td>\n",
       "      <td>0.0</td>\n",
       "      <td>16.749298</td>\n",
       "      <td>4</td>\n",
       "    </tr>\n",
       "  </tbody>\n",
       "</table>\n",
       "</div>"
      ],
      "text/plain": [
       "   Unnamed: 0  chern_simons  cusp_volume  hyperbolic_adjoint_torsion_degree  \\\n",
       "0       70746      0.090530    12.226322                                  0   \n",
       "1      240827      0.232453    13.800773                                  0   \n",
       "2      155659     -0.144099    14.761030                                  0   \n",
       "3      239963     -0.171668    13.738019                                  0   \n",
       "4       90504      0.235188    15.896359                                  0   \n",
       "\n",
       "   hyperbolic_torsion_degree  injectivity_radius  longitudinal_translation  \\\n",
       "0                         10            0.507756                 10.685555   \n",
       "1                         14            0.413645                 10.453156   \n",
       "2                         14            0.436928                 13.405199   \n",
       "3                         22            0.249481                 27.819496   \n",
       "4                         10            0.389329                 15.330971   \n",
       "\n",
       "   meridinal_translation_imag  meridinal_translation_real  \\\n",
       "0                    1.144192                   -0.519157   \n",
       "1                    1.320249                   -0.158522   \n",
       "2                    1.101142                    0.768894   \n",
       "3                    0.493827                   -1.188718   \n",
       "4                    1.036879                    0.722828   \n",
       "\n",
       "   short_geodesic_imag_part  short_geodesic_real_part  Symmetry_0  \\\n",
       "0                 -2.760601                  1.015512         0.0   \n",
       "1                 -3.013258                  0.827289         0.0   \n",
       "2                  2.233106                  0.873856         0.0   \n",
       "3                 -2.042771                  0.498961         0.0   \n",
       "4                 -3.056138                  0.778658         0.0   \n",
       "\n",
       "   Symmetry_D3  Symmetry_D4  Symmetry_D6  Symmetry_D8  Symmetry_Z/2 + Z/2  \\\n",
       "0          0.0          0.0          0.0          0.0                 1.0   \n",
       "1          0.0          0.0          0.0          0.0                 1.0   \n",
       "2          0.0          0.0          0.0          0.0                 0.0   \n",
       "3          0.0          0.0          0.0          0.0                 0.0   \n",
       "4          0.0          0.0          0.0          0.0                 0.0   \n",
       "\n",
       "      volume  signature  \n",
       "0  11.393225         -2  \n",
       "1  12.742782          0  \n",
       "2  15.236505          2  \n",
       "3  17.279890         -8  \n",
       "4  16.749298          4  "
      ]
     },
     "execution_count": 9,
     "metadata": {},
     "output_type": "execute_result"
    }
   ],
   "source": [
    "train_data = TabularDataset(f'data/knot_theory/train.csv')\n",
    "train_data.head()"
   ]
  },
  {
   "cell_type": "markdown",
   "id": "91d6f11a",
   "metadata": {},
   "source": [
    "Our targets are stored in the \"signature\" column, which has 18 unique integers. Even though pandas didn't correctly recognize this data type as categorical, AutoGluon will fix this issue.\n"
   ]
  },
  {
   "cell_type": "code",
   "execution_count": 10,
   "id": "91ccd595",
   "metadata": {},
   "outputs": [
    {
     "data": {
      "text/plain": [
       "count    10000.000000\n",
       "mean        -0.022000\n",
       "std          3.025166\n",
       "min        -12.000000\n",
       "25%         -2.000000\n",
       "50%          0.000000\n",
       "75%          2.000000\n",
       "max         12.000000\n",
       "Name: signature, dtype: float64"
      ]
     },
     "execution_count": 10,
     "metadata": {},
     "output_type": "execute_result"
    }
   ],
   "source": [
    "label = 'signature'\n",
    "train_data[label].describe()"
   ]
  },
  {
   "cell_type": "code",
   "execution_count": 13,
   "id": "da847c0d-c2fb-4a18-8781-89d95b268666",
   "metadata": {},
   "outputs": [],
   "source": [
    "vc = train_data[label].value_counts()"
   ]
  },
  {
   "cell_type": "code",
   "execution_count": 14,
   "id": "8df22944-e114-40b0-b68c-3ccad09e5819",
   "metadata": {},
   "outputs": [
    {
     "data": {
      "text/plain": [
       "signature\n",
       "-12       1\n",
       "-10       5\n",
       "-8       78\n",
       "-6      412\n",
       "-4     1076\n",
       "-2     2124\n",
       " 0     2685\n",
       " 2     2059\n",
       " 4     1084\n",
       " 6      397\n",
       " 8       69\n",
       " 10       9\n",
       " 12       1\n",
       "Name: count, dtype: int64"
      ]
     },
     "execution_count": 14,
     "metadata": {},
     "output_type": "execute_result"
    }
   ],
   "source": [
    "vc.sort_index()"
   ]
  },
  {
   "cell_type": "code",
   "execution_count": 15,
   "id": "49298803-6379-44f8-b4b2-4d0085140d2f",
   "metadata": {},
   "outputs": [
    {
     "name": "stdout",
     "output_type": "stream",
     "text": [
      "<class 'autogluon.core.dataset.TabularDataset'>\n",
      "RangeIndex: 10000 entries, 0 to 9999\n",
      "Data columns (total 19 columns):\n",
      " #   Column                             Non-Null Count  Dtype  \n",
      "---  ------                             --------------  -----  \n",
      " 0   Unnamed: 0                         10000 non-null  int64  \n",
      " 1   chern_simons                       10000 non-null  float64\n",
      " 2   cusp_volume                        10000 non-null  float64\n",
      " 3   hyperbolic_adjoint_torsion_degree  10000 non-null  int64  \n",
      " 4   hyperbolic_torsion_degree          10000 non-null  int64  \n",
      " 5   injectivity_radius                 10000 non-null  float64\n",
      " 6   longitudinal_translation           10000 non-null  float64\n",
      " 7   meridinal_translation_imag         10000 non-null  float64\n",
      " 8   meridinal_translation_real         10000 non-null  float64\n",
      " 9   short_geodesic_imag_part           10000 non-null  float64\n",
      " 10  short_geodesic_real_part           10000 non-null  float64\n",
      " 11  Symmetry_0                         10000 non-null  float64\n",
      " 12  Symmetry_D3                        10000 non-null  float64\n",
      " 13  Symmetry_D4                        10000 non-null  float64\n",
      " 14  Symmetry_D6                        10000 non-null  float64\n",
      " 15  Symmetry_D8                        10000 non-null  float64\n",
      " 16  Symmetry_Z/2 + Z/2                 10000 non-null  float64\n",
      " 17  volume                             10000 non-null  float64\n",
      " 18  signature                          10000 non-null  int64  \n",
      "dtypes: float64(15), int64(4)\n",
      "memory usage: 1.4 MB\n"
     ]
    }
   ],
   "source": [
    "train_data.info()"
   ]
  },
  {
   "cell_type": "code",
   "execution_count": 19,
   "id": "81d01af6-8902-4b84-870e-dd66264bc5b0",
   "metadata": {},
   "outputs": [
    {
     "data": {
      "text/plain": [
       "Symmetry_D8\n",
       "0.0    10000\n",
       "Name: count, dtype: int64"
      ]
     },
     "execution_count": 19,
     "metadata": {},
     "output_type": "execute_result"
    }
   ],
   "source": [
    "train_data['Symmetry_D8'].value_counts()"
   ]
  },
  {
   "cell_type": "markdown",
   "id": "7257dc34",
   "metadata": {},
   "source": [
    "## Training\n",
    "\n",
    "We now construct a `TabularPredictor` by specifying the label column name and then train on the dataset with `TabularPredictor.fit()`. We don't need to specify any other parameters. AutoGluon will recognize this is a multi-class classification task, perform automatic feature engineering, train multiple models, and then ensemble the models to create the final predictor. "
   ]
  },
  {
   "cell_type": "code",
   "execution_count": 20,
   "id": "694fca57",
   "metadata": {
    "tags": [
     "hide-output"
    ]
   },
   "outputs": [
    {
     "name": "stderr",
     "output_type": "stream",
     "text": [
      "No path specified. Models will be saved in: \"AutogluonModels/ag-20240428_184714\"\n",
      "No presets specified! To achieve strong results with AutoGluon, it is recommended to use the available presets.\n",
      "\tRecommended Presets (For more details refer to https://auto.gluon.ai/stable/tutorials/tabular/tabular-essentials.html#presets):\n",
      "\tpresets='best_quality'   : Maximize accuracy. Default time_limit=3600.\n",
      "\tpresets='high_quality'   : Strong accuracy with fast inference speed. Default time_limit=3600.\n",
      "\tpresets='good_quality'   : Good accuracy with very fast inference speed. Default time_limit=3600.\n",
      "\tpresets='medium_quality' : Fast training time, ideal for initial prototyping.\n",
      "Beginning AutoGluon training ...\n",
      "AutoGluon will save models to \"AutogluonModels/ag-20240428_184714\"\n",
      "=================== System Info ===================\n",
      "AutoGluon Version:  1.1.0\n",
      "Python Version:     3.10.6\n",
      "Operating System:   Linux\n",
      "Platform Machine:   x86_64\n",
      "Platform Version:   #1 SMP Sat Mar 23 09:49:55 UTC 2024\n",
      "CPU Count:          2\n",
      "Memory Avail:       2.62 GB / 3.78 GB (69.3%)\n",
      "Disk Space Avail:   8589934582.70 GB / 8589934592.00 GB (100.0%)\n",
      "===================================================\n",
      "Train Data Rows:    10000\n",
      "Train Data Columns: 18\n",
      "Label Column:       signature\n",
      "AutoGluon infers your prediction problem is: 'multiclass' (because dtype of label-column == int, but few unique label-values observed).\n",
      "\tFirst 10 (of 13) unique label values:  [-2, 0, 2, -8, 4, -4, -6, 8, 6, 10]\n",
      "\tIf 'multiclass' is not the correct problem_type, please manually specify the problem_type parameter during predictor init (You may specify problem_type as one of: ['binary', 'multiclass', 'regression'])\n",
      "Problem Type:       multiclass\n",
      "Preprocessing data ...\n",
      "Warning: Some classes in the training set have fewer than 10 examples. AutoGluon will only keep 9 out of 13 classes for training and will not try to predict the rare classes. To keep more classes, increase the number of datapoints from these rare classes in the training data or reduce label_count_threshold.\n",
      "Fraction of data from classes with at least 10 examples that will be kept for training models: 0.9984\n",
      "Train Data Class Count: 9\n",
      "Using Feature Generators to preprocess the data ...\n",
      "Fitting AutoMLPipelineFeatureGenerator...\n",
      "\tAvailable Memory:                    2683.00 MB\n",
      "\tTrain Data (Original)  Memory Usage: 1.37 MB (0.1% of available memory)\n",
      "\tInferring data type of each feature based on column values. Set feature_metadata_in to manually specify special dtypes of the features.\n",
      "\tStage 1 Generators:\n",
      "\t\tFitting AsTypeFeatureGenerator...\n",
      "\t\t\tNote: Converting 5 features to boolean dtype as they only contain 2 unique values.\n",
      "\tStage 2 Generators:\n",
      "\t\tFitting FillNaFeatureGenerator...\n",
      "\tStage 3 Generators:\n",
      "\t\tFitting IdentityFeatureGenerator...\n",
      "\tStage 4 Generators:\n",
      "\t\tFitting DropUniqueFeatureGenerator...\n",
      "\tStage 5 Generators:\n",
      "\t\tFitting DropDuplicatesFeatureGenerator...\n",
      "\tUseless Original Features (Count: 1): ['Symmetry_D8']\n",
      "\t\tThese features carry no predictive signal and should be manually investigated.\n",
      "\t\tThis is typically a feature which has the same value for all rows.\n",
      "\t\tThese features do not need to be present at inference time.\n",
      "\tTypes of features in original data (raw dtype, special dtypes):\n",
      "\t\t('float', []) : 14 | ['chern_simons', 'cusp_volume', 'injectivity_radius', 'longitudinal_translation', 'meridinal_translation_imag', ...]\n",
      "\t\t('int', [])   :  3 | ['Unnamed: 0', 'hyperbolic_adjoint_torsion_degree', 'hyperbolic_torsion_degree']\n",
      "\tTypes of features in processed data (raw dtype, special dtypes):\n",
      "\t\t('float', [])     : 9 | ['chern_simons', 'cusp_volume', 'injectivity_radius', 'longitudinal_translation', 'meridinal_translation_imag', ...]\n",
      "\t\t('int', [])       : 3 | ['Unnamed: 0', 'hyperbolic_adjoint_torsion_degree', 'hyperbolic_torsion_degree']\n",
      "\t\t('int', ['bool']) : 5 | ['Symmetry_0', 'Symmetry_D3', 'Symmetry_D4', 'Symmetry_D6', 'Symmetry_Z/2 + Z/2']\n",
      "\t0.2s = Fit runtime\n",
      "\t17 features in original data used to generate 17 features in processed data.\n",
      "\tTrain Data (Processed) Memory Usage: 0.96 MB (0.0% of available memory)\n",
      "Data preprocessing and feature engineering runtime = 0.24s ...\n",
      "AutoGluon will gauge predictive performance using evaluation metric: 'accuracy'\n",
      "\tTo change this, specify the eval_metric parameter of Predictor()\n",
      "Automatically generating train/validation split with holdout_frac=0.1, Train Rows: 8985, Val Rows: 999\n",
      "User-specified model hyperparameters to be fit:\n",
      "{\n",
      "\t'NN_TORCH': {},\n",
      "\t'GBM': [{'extra_trees': True, 'ag_args': {'name_suffix': 'XT'}}, {}, 'GBMLarge'],\n",
      "\t'CAT': {},\n",
      "\t'XGB': {},\n",
      "\t'FASTAI': {},\n",
      "\t'RF': [{'criterion': 'gini', 'ag_args': {'name_suffix': 'Gini', 'problem_types': ['binary', 'multiclass']}}, {'criterion': 'entropy', 'ag_args': {'name_suffix': 'Entr', 'problem_types': ['binary', 'multiclass']}}, {'criterion': 'squared_error', 'ag_args': {'name_suffix': 'MSE', 'problem_types': ['regression', 'quantile']}}],\n",
      "\t'XT': [{'criterion': 'gini', 'ag_args': {'name_suffix': 'Gini', 'problem_types': ['binary', 'multiclass']}}, {'criterion': 'entropy', 'ag_args': {'name_suffix': 'Entr', 'problem_types': ['binary', 'multiclass']}}, {'criterion': 'squared_error', 'ag_args': {'name_suffix': 'MSE', 'problem_types': ['regression', 'quantile']}}],\n",
      "\t'KNN': [{'weights': 'uniform', 'ag_args': {'name_suffix': 'Unif'}}, {'weights': 'distance', 'ag_args': {'name_suffix': 'Dist'}}],\n",
      "}\n",
      "Fitting 13 L1 models ...\n",
      "Fitting model: KNeighborsUnif ...\n",
      "\t0.2232\t = Validation score   (accuracy)\n",
      "\t3.68s\t = Training   runtime\n",
      "\t0.04s\t = Validation runtime\n",
      "Fitting model: KNeighborsDist ...\n",
      "\t0.2132\t = Validation score   (accuracy)\n",
      "\t0.03s\t = Training   runtime\n",
      "\t0.02s\t = Validation runtime\n",
      "Fitting model: NeuralNetFastAI ...\n",
      "\t0.9399\t = Validation score   (accuracy)\n",
      "\t15.19s\t = Training   runtime\n",
      "\t0.03s\t = Validation runtime\n",
      "Fitting model: LightGBMXT ...\n",
      "\t0.9459\t = Validation score   (accuracy)\n",
      "\t9.03s\t = Training   runtime\n",
      "\t0.24s\t = Validation runtime\n",
      "Fitting model: LightGBM ...\n",
      "\t0.956\t = Validation score   (accuracy)\n",
      "\t8.07s\t = Training   runtime\n",
      "\t0.13s\t = Validation runtime\n",
      "Fitting model: RandomForestGini ...\n",
      "\t0.9449\t = Validation score   (accuracy)\n",
      "\t6.34s\t = Training   runtime\n",
      "\t0.12s\t = Validation runtime\n",
      "Fitting model: RandomForestEntr ...\n",
      "\t0.9499\t = Validation score   (accuracy)\n",
      "\t9.07s\t = Training   runtime\n",
      "\t0.15s\t = Validation runtime\n",
      "Fitting model: CatBoost ...\n",
      "\t0.956\t = Validation score   (accuracy)\n",
      "\t80.06s\t = Training   runtime\n",
      "\t0.01s\t = Validation runtime\n",
      "Fitting model: ExtraTreesGini ...\n",
      "\t0.9469\t = Validation score   (accuracy)\n",
      "\t2.96s\t = Training   runtime\n",
      "\t0.12s\t = Validation runtime\n",
      "Fitting model: ExtraTreesEntr ...\n",
      "\t0.9429\t = Validation score   (accuracy)\n",
      "\t2.65s\t = Training   runtime\n",
      "\t0.13s\t = Validation runtime\n",
      "Fitting model: XGBoost ...\n",
      "\t0.957\t = Validation score   (accuracy)\n",
      "\t15.39s\t = Training   runtime\n",
      "\t0.4s\t = Validation runtime\n",
      "Fitting model: NeuralNetTorch ...\n",
      "\t0.9419\t = Validation score   (accuracy)\n",
      "\t60.47s\t = Training   runtime\n",
      "\t0.02s\t = Validation runtime\n",
      "Fitting model: LightGBMLarge ...\n",
      "\t0.9499\t = Validation score   (accuracy)\n",
      "\t18.71s\t = Training   runtime\n",
      "\t0.65s\t = Validation runtime\n",
      "Fitting model: WeightedEnsemble_L2 ...\n",
      "\tEnsemble Weights: {'NeuralNetFastAI': 0.231, 'KNeighborsUnif': 0.154, 'RandomForestGini': 0.154, 'RandomForestEntr': 0.154, 'XGBoost': 0.154, 'KNeighborsDist': 0.077, 'CatBoost': 0.077}\n",
      "\t0.966\t = Validation score   (accuracy)\n",
      "\t0.34s\t = Training   runtime\n",
      "\t0.0s\t = Validation runtime\n",
      "AutoGluon training complete, total runtime = 241.63s ... Best model: \"WeightedEnsemble_L2\"\n",
      "TabularPredictor saved. To load, use: predictor = TabularPredictor.load(\"AutogluonModels/ag-20240428_184714\")\n"
     ]
    }
   ],
   "source": [
    "predictor = TabularPredictor(label=label).fit(train_data)"
   ]
  },
  {
   "cell_type": "markdown",
   "id": "94e61068",
   "metadata": {},
   "source": [
    "Model fitting should take a few minutes or less depending on your CPU. You can make training faster by specifying the `time_limit` argument. For example, `fit(..., time_limit=60)` will stop training after 60 seconds. Higher time limits will generally result in better prediction performance, and excessively low time limits will prevent AutoGluon from training and ensembling a reasonable set of models.\n",
    "\n"
   ]
  },
  {
   "cell_type": "markdown",
   "id": "f59e621c",
   "metadata": {},
   "source": [
    "## Prediction\n",
    "\n",
    "Once we have a predictor that is fit on the training dataset, we can load a separate set of data to use for prediction and evaulation."
   ]
  },
  {
   "cell_type": "code",
   "execution_count": 22,
   "id": "2abf4f32-5216-40da-8fc6-b4f7c5bed0f4",
   "metadata": {
    "tags": []
   },
   "outputs": [
    {
     "name": "stderr",
     "output_type": "stream",
     "text": [
      "Loaded data from: data/knot_theory/test.csv | Columns = 19 / 19 | Rows = 5000 -> 5000\n"
     ]
    }
   ],
   "source": [
    "test_data = TabularDataset(f'data/knot_theory/test.csv')"
   ]
  },
  {
   "cell_type": "code",
   "execution_count": 23,
   "id": "9e2a7aeb-fd14-4f27-bd29-ef283ecc0d15",
   "metadata": {
    "tags": []
   },
   "outputs": [
    {
     "data": {
      "text/plain": [
       "0   -4\n",
       "1   -2\n",
       "2    0\n",
       "3    4\n",
       "4    2\n",
       "Name: signature, dtype: int64"
      ]
     },
     "execution_count": 23,
     "metadata": {},
     "output_type": "execute_result"
    }
   ],
   "source": [
    "y_pred = predictor.predict(test_data.drop(columns=[label]))\n",
    "y_pred.head()"
   ]
  },
  {
   "cell_type": "code",
   "execution_count": 26,
   "id": "172ba563-513a-4643-92bf-ebdb4584fbb2",
   "metadata": {},
   "outputs": [],
   "source": [
    "y_pred_sorted = y_pred.value_counts()"
   ]
  },
  {
   "cell_type": "code",
   "execution_count": 27,
   "id": "30c0552a-7d2f-4d54-b663-c703be0a3a0f",
   "metadata": {},
   "outputs": [
    {
     "data": {
      "text/plain": [
       "signature\n",
       "-8      42\n",
       "-6     211\n",
       "-4     543\n",
       "-2    1056\n",
       " 0    1326\n",
       " 2    1028\n",
       " 4     555\n",
       " 6     191\n",
       " 8      48\n",
       "Name: count, dtype: int64"
      ]
     },
     "execution_count": 27,
     "metadata": {},
     "output_type": "execute_result"
    }
   ],
   "source": [
    "y_pred_sorted.sort_index()"
   ]
  },
  {
   "cell_type": "markdown",
   "id": "11f203db",
   "metadata": {},
   "source": [
    "## Evaluation\n",
    "\n",
    "We can evaluate the predictor on the test dataset using the `evaluate()` function, which measures how well our predictor performs on data that was not used for fitting the models."
   ]
  },
  {
   "cell_type": "code",
   "execution_count": 28,
   "id": "b46ccb70",
   "metadata": {},
   "outputs": [
    {
     "data": {
      "text/plain": [
       "{'accuracy': 0.9492,\n",
       " 'balanced_accuracy': 0.7607185299582315,\n",
       " 'mcc': 0.9377531923409433}"
      ]
     },
     "execution_count": 28,
     "metadata": {},
     "output_type": "execute_result"
    }
   ],
   "source": [
    "predictor.evaluate(test_data, silent=True)"
   ]
  },
  {
   "cell_type": "code",
   "execution_count": 30,
   "id": "372549a3-60d5-4b09-b66b-b1e12315ccb6",
   "metadata": {},
   "outputs": [
    {
     "data": {
      "text/plain": [
       "0.9492"
      ]
     },
     "execution_count": 30,
     "metadata": {},
     "output_type": "execute_result"
    }
   ],
   "source": [
    "(y_pred == test_data[label]).mean()"
   ]
  },
  {
   "cell_type": "markdown",
   "id": "e9ed53e8",
   "metadata": {},
   "source": [
    "AutoGluon's `TabularPredictor` also provides the `leaderboard()` function, which allows us to evaluate the performance of each individual trained model on the test data."
   ]
  },
  {
   "cell_type": "code",
   "execution_count": 31,
   "id": "3bb9d70c",
   "metadata": {},
   "outputs": [],
   "source": [
    "df_leaderboard = predictor.leaderboard(test_data)"
   ]
  },
  {
   "cell_type": "code",
   "execution_count": 32,
   "id": "43a8e9ec-9263-4286-b72c-6f9df37a56fd",
   "metadata": {},
   "outputs": [
    {
     "data": {
      "text/html": [
       "<div>\n",
       "<style scoped>\n",
       "    .dataframe tbody tr th:only-of-type {\n",
       "        vertical-align: middle;\n",
       "    }\n",
       "\n",
       "    .dataframe tbody tr th {\n",
       "        vertical-align: top;\n",
       "    }\n",
       "\n",
       "    .dataframe thead th {\n",
       "        text-align: right;\n",
       "    }\n",
       "</style>\n",
       "<table border=\"1\" class=\"dataframe\">\n",
       "  <thead>\n",
       "    <tr style=\"text-align: right;\">\n",
       "      <th></th>\n",
       "      <th>model</th>\n",
       "      <th>score_test</th>\n",
       "      <th>score_val</th>\n",
       "      <th>eval_metric</th>\n",
       "      <th>pred_time_test</th>\n",
       "      <th>pred_time_val</th>\n",
       "      <th>fit_time</th>\n",
       "      <th>pred_time_test_marginal</th>\n",
       "      <th>pred_time_val_marginal</th>\n",
       "      <th>fit_time_marginal</th>\n",
       "      <th>stack_level</th>\n",
       "      <th>can_infer</th>\n",
       "      <th>fit_order</th>\n",
       "    </tr>\n",
       "  </thead>\n",
       "  <tbody>\n",
       "    <tr>\n",
       "      <th>0</th>\n",
       "      <td>WeightedEnsemble_L2</td>\n",
       "      <td>0.9492</td>\n",
       "      <td>0.965966</td>\n",
       "      <td>accuracy</td>\n",
       "      <td>3.149451</td>\n",
       "      <td>0.773011</td>\n",
       "      <td>130.094284</td>\n",
       "      <td>0.022690</td>\n",
       "      <td>0.002604</td>\n",
       "      <td>0.340377</td>\n",
       "      <td>2</td>\n",
       "      <td>True</td>\n",
       "      <td>14</td>\n",
       "    </tr>\n",
       "    <tr>\n",
       "      <th>1</th>\n",
       "      <td>LightGBM</td>\n",
       "      <td>0.9456</td>\n",
       "      <td>0.955956</td>\n",
       "      <td>accuracy</td>\n",
       "      <td>0.779150</td>\n",
       "      <td>0.134874</td>\n",
       "      <td>8.066734</td>\n",
       "      <td>0.779150</td>\n",
       "      <td>0.134874</td>\n",
       "      <td>8.066734</td>\n",
       "      <td>1</td>\n",
       "      <td>True</td>\n",
       "      <td>5</td>\n",
       "    </tr>\n",
       "    <tr>\n",
       "      <th>2</th>\n",
       "      <td>XGBoost</td>\n",
       "      <td>0.9448</td>\n",
       "      <td>0.956957</td>\n",
       "      <td>accuracy</td>\n",
       "      <td>2.335654</td>\n",
       "      <td>0.404164</td>\n",
       "      <td>15.392614</td>\n",
       "      <td>2.335654</td>\n",
       "      <td>0.404164</td>\n",
       "      <td>15.392614</td>\n",
       "      <td>1</td>\n",
       "      <td>True</td>\n",
       "      <td>11</td>\n",
       "    </tr>\n",
       "    <tr>\n",
       "      <th>3</th>\n",
       "      <td>LightGBMLarge</td>\n",
       "      <td>0.9444</td>\n",
       "      <td>0.949950</td>\n",
       "      <td>accuracy</td>\n",
       "      <td>2.782085</td>\n",
       "      <td>0.647386</td>\n",
       "      <td>18.709358</td>\n",
       "      <td>2.782085</td>\n",
       "      <td>0.647386</td>\n",
       "      <td>18.709358</td>\n",
       "      <td>1</td>\n",
       "      <td>True</td>\n",
       "      <td>13</td>\n",
       "    </tr>\n",
       "    <tr>\n",
       "      <th>4</th>\n",
       "      <td>CatBoost</td>\n",
       "      <td>0.9432</td>\n",
       "      <td>0.955956</td>\n",
       "      <td>accuracy</td>\n",
       "      <td>0.060755</td>\n",
       "      <td>0.013117</td>\n",
       "      <td>80.060095</td>\n",
       "      <td>0.060755</td>\n",
       "      <td>0.013117</td>\n",
       "      <td>80.060095</td>\n",
       "      <td>1</td>\n",
       "      <td>True</td>\n",
       "      <td>8</td>\n",
       "    </tr>\n",
       "    <tr>\n",
       "      <th>5</th>\n",
       "      <td>RandomForestEntr</td>\n",
       "      <td>0.9384</td>\n",
       "      <td>0.949950</td>\n",
       "      <td>accuracy</td>\n",
       "      <td>0.273951</td>\n",
       "      <td>0.150250</td>\n",
       "      <td>9.067146</td>\n",
       "      <td>0.273951</td>\n",
       "      <td>0.150250</td>\n",
       "      <td>9.067146</td>\n",
       "      <td>1</td>\n",
       "      <td>True</td>\n",
       "      <td>7</td>\n",
       "    </tr>\n",
       "    <tr>\n",
       "      <th>6</th>\n",
       "      <td>ExtraTreesGini</td>\n",
       "      <td>0.9360</td>\n",
       "      <td>0.946947</td>\n",
       "      <td>accuracy</td>\n",
       "      <td>1.006382</td>\n",
       "      <td>0.122427</td>\n",
       "      <td>2.960621</td>\n",
       "      <td>1.006382</td>\n",
       "      <td>0.122427</td>\n",
       "      <td>2.960621</td>\n",
       "      <td>1</td>\n",
       "      <td>True</td>\n",
       "      <td>9</td>\n",
       "    </tr>\n",
       "    <tr>\n",
       "      <th>7</th>\n",
       "      <td>ExtraTreesEntr</td>\n",
       "      <td>0.9358</td>\n",
       "      <td>0.942943</td>\n",
       "      <td>accuracy</td>\n",
       "      <td>1.151344</td>\n",
       "      <td>0.127958</td>\n",
       "      <td>2.653884</td>\n",
       "      <td>1.151344</td>\n",
       "      <td>0.127958</td>\n",
       "      <td>2.653884</td>\n",
       "      <td>1</td>\n",
       "      <td>True</td>\n",
       "      <td>10</td>\n",
       "    </tr>\n",
       "    <tr>\n",
       "      <th>8</th>\n",
       "      <td>NeuralNetFastAI</td>\n",
       "      <td>0.9356</td>\n",
       "      <td>0.939940</td>\n",
       "      <td>accuracy</td>\n",
       "      <td>0.100019</td>\n",
       "      <td>0.026136</td>\n",
       "      <td>15.192991</td>\n",
       "      <td>0.100019</td>\n",
       "      <td>0.026136</td>\n",
       "      <td>15.192991</td>\n",
       "      <td>1</td>\n",
       "      <td>True</td>\n",
       "      <td>3</td>\n",
       "    </tr>\n",
       "    <tr>\n",
       "      <th>9</th>\n",
       "      <td>RandomForestGini</td>\n",
       "      <td>0.9352</td>\n",
       "      <td>0.944945</td>\n",
       "      <td>accuracy</td>\n",
       "      <td>0.256482</td>\n",
       "      <td>0.122114</td>\n",
       "      <td>6.336494</td>\n",
       "      <td>0.256482</td>\n",
       "      <td>0.122114</td>\n",
       "      <td>6.336494</td>\n",
       "      <td>1</td>\n",
       "      <td>True</td>\n",
       "      <td>6</td>\n",
       "    </tr>\n",
       "    <tr>\n",
       "      <th>10</th>\n",
       "      <td>LightGBMXT</td>\n",
       "      <td>0.9320</td>\n",
       "      <td>0.945946</td>\n",
       "      <td>accuracy</td>\n",
       "      <td>1.246793</td>\n",
       "      <td>0.237455</td>\n",
       "      <td>9.028204</td>\n",
       "      <td>1.246793</td>\n",
       "      <td>0.237455</td>\n",
       "      <td>9.028204</td>\n",
       "      <td>1</td>\n",
       "      <td>True</td>\n",
       "      <td>4</td>\n",
       "    </tr>\n",
       "    <tr>\n",
       "      <th>11</th>\n",
       "      <td>NeuralNetTorch</td>\n",
       "      <td>0.9258</td>\n",
       "      <td>0.941942</td>\n",
       "      <td>accuracy</td>\n",
       "      <td>0.040435</td>\n",
       "      <td>0.021914</td>\n",
       "      <td>60.466347</td>\n",
       "      <td>0.040435</td>\n",
       "      <td>0.021914</td>\n",
       "      <td>60.466347</td>\n",
       "      <td>1</td>\n",
       "      <td>True</td>\n",
       "      <td>12</td>\n",
       "    </tr>\n",
       "    <tr>\n",
       "      <th>12</th>\n",
       "      <td>KNeighborsDist</td>\n",
       "      <td>0.2210</td>\n",
       "      <td>0.213213</td>\n",
       "      <td>accuracy</td>\n",
       "      <td>0.038707</td>\n",
       "      <td>0.015661</td>\n",
       "      <td>0.026055</td>\n",
       "      <td>0.038707</td>\n",
       "      <td>0.015661</td>\n",
       "      <td>0.026055</td>\n",
       "      <td>1</td>\n",
       "      <td>True</td>\n",
       "      <td>2</td>\n",
       "    </tr>\n",
       "    <tr>\n",
       "      <th>13</th>\n",
       "      <td>KNeighborsUnif</td>\n",
       "      <td>0.2180</td>\n",
       "      <td>0.223223</td>\n",
       "      <td>accuracy</td>\n",
       "      <td>0.061193</td>\n",
       "      <td>0.038965</td>\n",
       "      <td>3.678511</td>\n",
       "      <td>0.061193</td>\n",
       "      <td>0.038965</td>\n",
       "      <td>3.678511</td>\n",
       "      <td>1</td>\n",
       "      <td>True</td>\n",
       "      <td>1</td>\n",
       "    </tr>\n",
       "  </tbody>\n",
       "</table>\n",
       "</div>"
      ],
      "text/plain": [
       "                  model  score_test  score_val eval_metric  pred_time_test  \\\n",
       "0   WeightedEnsemble_L2      0.9492   0.965966    accuracy        3.149451   \n",
       "1              LightGBM      0.9456   0.955956    accuracy        0.779150   \n",
       "2               XGBoost      0.9448   0.956957    accuracy        2.335654   \n",
       "3         LightGBMLarge      0.9444   0.949950    accuracy        2.782085   \n",
       "4              CatBoost      0.9432   0.955956    accuracy        0.060755   \n",
       "5      RandomForestEntr      0.9384   0.949950    accuracy        0.273951   \n",
       "6        ExtraTreesGini      0.9360   0.946947    accuracy        1.006382   \n",
       "7        ExtraTreesEntr      0.9358   0.942943    accuracy        1.151344   \n",
       "8       NeuralNetFastAI      0.9356   0.939940    accuracy        0.100019   \n",
       "9      RandomForestGini      0.9352   0.944945    accuracy        0.256482   \n",
       "10           LightGBMXT      0.9320   0.945946    accuracy        1.246793   \n",
       "11       NeuralNetTorch      0.9258   0.941942    accuracy        0.040435   \n",
       "12       KNeighborsDist      0.2210   0.213213    accuracy        0.038707   \n",
       "13       KNeighborsUnif      0.2180   0.223223    accuracy        0.061193   \n",
       "\n",
       "    pred_time_val    fit_time  pred_time_test_marginal  \\\n",
       "0        0.773011  130.094284                 0.022690   \n",
       "1        0.134874    8.066734                 0.779150   \n",
       "2        0.404164   15.392614                 2.335654   \n",
       "3        0.647386   18.709358                 2.782085   \n",
       "4        0.013117   80.060095                 0.060755   \n",
       "5        0.150250    9.067146                 0.273951   \n",
       "6        0.122427    2.960621                 1.006382   \n",
       "7        0.127958    2.653884                 1.151344   \n",
       "8        0.026136   15.192991                 0.100019   \n",
       "9        0.122114    6.336494                 0.256482   \n",
       "10       0.237455    9.028204                 1.246793   \n",
       "11       0.021914   60.466347                 0.040435   \n",
       "12       0.015661    0.026055                 0.038707   \n",
       "13       0.038965    3.678511                 0.061193   \n",
       "\n",
       "    pred_time_val_marginal  fit_time_marginal  stack_level  can_infer  \\\n",
       "0                 0.002604           0.340377            2       True   \n",
       "1                 0.134874           8.066734            1       True   \n",
       "2                 0.404164          15.392614            1       True   \n",
       "3                 0.647386          18.709358            1       True   \n",
       "4                 0.013117          80.060095            1       True   \n",
       "5                 0.150250           9.067146            1       True   \n",
       "6                 0.122427           2.960621            1       True   \n",
       "7                 0.127958           2.653884            1       True   \n",
       "8                 0.026136          15.192991            1       True   \n",
       "9                 0.122114           6.336494            1       True   \n",
       "10                0.237455           9.028204            1       True   \n",
       "11                0.021914          60.466347            1       True   \n",
       "12                0.015661           0.026055            1       True   \n",
       "13                0.038965           3.678511            1       True   \n",
       "\n",
       "    fit_order  \n",
       "0          14  \n",
       "1           5  \n",
       "2          11  \n",
       "3          13  \n",
       "4           8  \n",
       "5           7  \n",
       "6           9  \n",
       "7          10  \n",
       "8           3  \n",
       "9           6  \n",
       "10          4  \n",
       "11         12  \n",
       "12          2  \n",
       "13          1  "
      ]
     },
     "execution_count": 32,
     "metadata": {},
     "output_type": "execute_result"
    }
   ],
   "source": [
    "df_leaderboard"
   ]
  },
  {
   "cell_type": "code",
   "execution_count": 33,
   "id": "ac110791-4351-44cf-bc97-cfca0c5c5f33",
   "metadata": {},
   "outputs": [
    {
     "data": {
      "text/plain": [
       "'AutogluonModels/ag-20240428_184714/ensemble_model.png'"
      ]
     },
     "execution_count": 33,
     "metadata": {},
     "output_type": "execute_result"
    }
   ],
   "source": [
    "predictor.plot_ensemble_model()"
   ]
  },
  {
   "cell_type": "code",
   "execution_count": 35,
   "id": "598260fa-d67c-40ea-ba06-06f1df1fd71c",
   "metadata": {},
   "outputs": [
    {
     "name": "stdout",
     "output_type": "stream",
     "text": [
      "*** Summary of fit() ***\n",
      "Estimated performance of each model:\n",
      "                  model  score_val eval_metric  pred_time_val    fit_time  pred_time_val_marginal  fit_time_marginal  stack_level  can_infer  fit_order\n",
      "0   WeightedEnsemble_L2   0.965966    accuracy       0.773011  130.094284                0.002604           0.340377            2       True         14\n",
      "1               XGBoost   0.956957    accuracy       0.404164   15.392614                0.404164          15.392614            1       True         11\n",
      "2              CatBoost   0.955956    accuracy       0.013117   80.060095                0.013117          80.060095            1       True          8\n",
      "3              LightGBM   0.955956    accuracy       0.134874    8.066734                0.134874           8.066734            1       True          5\n",
      "4      RandomForestEntr   0.949950    accuracy       0.150250    9.067146                0.150250           9.067146            1       True          7\n",
      "5         LightGBMLarge   0.949950    accuracy       0.647386   18.709358                0.647386          18.709358            1       True         13\n",
      "6        ExtraTreesGini   0.946947    accuracy       0.122427    2.960621                0.122427           2.960621            1       True          9\n",
      "7            LightGBMXT   0.945946    accuracy       0.237455    9.028204                0.237455           9.028204            1       True          4\n",
      "8      RandomForestGini   0.944945    accuracy       0.122114    6.336494                0.122114           6.336494            1       True          6\n",
      "9        ExtraTreesEntr   0.942943    accuracy       0.127958    2.653884                0.127958           2.653884            1       True         10\n",
      "10       NeuralNetTorch   0.941942    accuracy       0.021914   60.466347                0.021914          60.466347            1       True         12\n",
      "11      NeuralNetFastAI   0.939940    accuracy       0.026136   15.192991                0.026136          15.192991            1       True          3\n",
      "12       KNeighborsUnif   0.223223    accuracy       0.038965    3.678511                0.038965           3.678511            1       True          1\n",
      "13       KNeighborsDist   0.213213    accuracy       0.015661    0.026055                0.015661           0.026055            1       True          2\n",
      "Number of models trained: 14\n",
      "Types of models trained:\n",
      "{'RFModel', 'TabularNeuralNetTorchModel', 'XGBoostModel', 'CatBoostModel', 'KNNModel', 'NNFastAiTabularModel', 'XTModel', 'WeightedEnsembleModel', 'LGBModel'}\n",
      "Bagging used: False \n",
      "Multi-layer stack-ensembling used: False \n",
      "Feature Metadata (Processed):\n",
      "(raw dtype, special dtypes):\n",
      "('float', [])     : 9 | ['chern_simons', 'cusp_volume', 'injectivity_radius', 'longitudinal_translation', 'meridinal_translation_imag', ...]\n",
      "('int', [])       : 3 | ['Unnamed: 0', 'hyperbolic_adjoint_torsion_degree', 'hyperbolic_torsion_degree']\n",
      "('int', ['bool']) : 5 | ['Symmetry_0', 'Symmetry_D3', 'Symmetry_D4', 'Symmetry_D6', 'Symmetry_Z/2 + Z/2']\n",
      "Plot summary of models saved to file: AutogluonModels/ag-20240428_184714SummaryOfModels.html\n",
      "*** End of fit() summary ***\n"
     ]
    }
   ],
   "source": [
    "summary_dict = predictor.fit_summary()"
   ]
  },
  {
   "cell_type": "code",
   "execution_count": 44,
   "id": "ed4e878c-4664-44c0-bda0-38e9ddcb517c",
   "metadata": {},
   "outputs": [
    {
     "data": {
      "text/plain": [
       "{'num_epochs': 500,\n",
       " 'epochs_wo_improve': 20,\n",
       " 'activation': 'relu',\n",
       " 'embedding_size_factor': 1.0,\n",
       " 'embed_exponent': 0.56,\n",
       " 'max_embedding_dim': 100,\n",
       " 'y_range': None,\n",
       " 'y_range_extend': 0.05,\n",
       " 'dropout_prob': 0.1,\n",
       " 'optimizer': 'adam',\n",
       " 'learning_rate': 0.0003,\n",
       " 'weight_decay': 1e-06,\n",
       " 'proc.embed_min_categories': 4,\n",
       " 'proc.impute_strategy': 'median',\n",
       " 'proc.max_category_levels': 100,\n",
       " 'proc.skew_threshold': 0.99,\n",
       " 'use_ngram_features': False,\n",
       " 'num_layers': 4,\n",
       " 'hidden_size': 128,\n",
       " 'max_batch_size': 512,\n",
       " 'use_batchnorm': False,\n",
       " 'loss_function': 'auto'}"
      ]
     },
     "execution_count": 44,
     "metadata": {},
     "output_type": "execute_result"
    }
   ],
   "source": [
    "summary_dict[\"model_hyperparams\"]['NeuralNetTorch']"
   ]
  },
  {
   "cell_type": "markdown",
   "id": "16329a90",
   "metadata": {
    "id": "I-da0PXvpD96"
   },
   "source": [
    "## Conclusion\n",
    "\n",
    "In this quickstart tutorial we saw AutoGluon's basic fit and predict functionality using `TabularDataset` and `TabularPredictor`. AutoGluon simplifies the model training process by not requiring feature engineering or model hyperparameter tuning. Check out the in-depth tutorials to learn more about AutoGluon's other features like customizing the training and prediction steps or extending AutoGluon with custom feature generators, models, or metrics."
   ]
  }
 ],
 "metadata": {
  "availableInstances": [
   {
    "_defaultOrder": 0,
    "_isFastLaunch": true,
    "category": "General purpose",
    "gpuNum": 0,
    "hideHardwareSpecs": false,
    "memoryGiB": 4,
    "name": "ml.t3.medium",
    "vcpuNum": 2
   },
   {
    "_defaultOrder": 1,
    "_isFastLaunch": false,
    "category": "General purpose",
    "gpuNum": 0,
    "hideHardwareSpecs": false,
    "memoryGiB": 8,
    "name": "ml.t3.large",
    "vcpuNum": 2
   },
   {
    "_defaultOrder": 2,
    "_isFastLaunch": false,
    "category": "General purpose",
    "gpuNum": 0,
    "hideHardwareSpecs": false,
    "memoryGiB": 16,
    "name": "ml.t3.xlarge",
    "vcpuNum": 4
   },
   {
    "_defaultOrder": 3,
    "_isFastLaunch": false,
    "category": "General purpose",
    "gpuNum": 0,
    "hideHardwareSpecs": false,
    "memoryGiB": 32,
    "name": "ml.t3.2xlarge",
    "vcpuNum": 8
   },
   {
    "_defaultOrder": 4,
    "_isFastLaunch": true,
    "category": "General purpose",
    "gpuNum": 0,
    "hideHardwareSpecs": false,
    "memoryGiB": 8,
    "name": "ml.m5.large",
    "vcpuNum": 2
   },
   {
    "_defaultOrder": 5,
    "_isFastLaunch": false,
    "category": "General purpose",
    "gpuNum": 0,
    "hideHardwareSpecs": false,
    "memoryGiB": 16,
    "name": "ml.m5.xlarge",
    "vcpuNum": 4
   },
   {
    "_defaultOrder": 6,
    "_isFastLaunch": false,
    "category": "General purpose",
    "gpuNum": 0,
    "hideHardwareSpecs": false,
    "memoryGiB": 32,
    "name": "ml.m5.2xlarge",
    "vcpuNum": 8
   },
   {
    "_defaultOrder": 7,
    "_isFastLaunch": false,
    "category": "General purpose",
    "gpuNum": 0,
    "hideHardwareSpecs": false,
    "memoryGiB": 64,
    "name": "ml.m5.4xlarge",
    "vcpuNum": 16
   },
   {
    "_defaultOrder": 8,
    "_isFastLaunch": false,
    "category": "General purpose",
    "gpuNum": 0,
    "hideHardwareSpecs": false,
    "memoryGiB": 128,
    "name": "ml.m5.8xlarge",
    "vcpuNum": 32
   },
   {
    "_defaultOrder": 9,
    "_isFastLaunch": false,
    "category": "General purpose",
    "gpuNum": 0,
    "hideHardwareSpecs": false,
    "memoryGiB": 192,
    "name": "ml.m5.12xlarge",
    "vcpuNum": 48
   },
   {
    "_defaultOrder": 10,
    "_isFastLaunch": false,
    "category": "General purpose",
    "gpuNum": 0,
    "hideHardwareSpecs": false,
    "memoryGiB": 256,
    "name": "ml.m5.16xlarge",
    "vcpuNum": 64
   },
   {
    "_defaultOrder": 11,
    "_isFastLaunch": false,
    "category": "General purpose",
    "gpuNum": 0,
    "hideHardwareSpecs": false,
    "memoryGiB": 384,
    "name": "ml.m5.24xlarge",
    "vcpuNum": 96
   },
   {
    "_defaultOrder": 12,
    "_isFastLaunch": false,
    "category": "General purpose",
    "gpuNum": 0,
    "hideHardwareSpecs": false,
    "memoryGiB": 8,
    "name": "ml.m5d.large",
    "vcpuNum": 2
   },
   {
    "_defaultOrder": 13,
    "_isFastLaunch": false,
    "category": "General purpose",
    "gpuNum": 0,
    "hideHardwareSpecs": false,
    "memoryGiB": 16,
    "name": "ml.m5d.xlarge",
    "vcpuNum": 4
   },
   {
    "_defaultOrder": 14,
    "_isFastLaunch": false,
    "category": "General purpose",
    "gpuNum": 0,
    "hideHardwareSpecs": false,
    "memoryGiB": 32,
    "name": "ml.m5d.2xlarge",
    "vcpuNum": 8
   },
   {
    "_defaultOrder": 15,
    "_isFastLaunch": false,
    "category": "General purpose",
    "gpuNum": 0,
    "hideHardwareSpecs": false,
    "memoryGiB": 64,
    "name": "ml.m5d.4xlarge",
    "vcpuNum": 16
   },
   {
    "_defaultOrder": 16,
    "_isFastLaunch": false,
    "category": "General purpose",
    "gpuNum": 0,
    "hideHardwareSpecs": false,
    "memoryGiB": 128,
    "name": "ml.m5d.8xlarge",
    "vcpuNum": 32
   },
   {
    "_defaultOrder": 17,
    "_isFastLaunch": false,
    "category": "General purpose",
    "gpuNum": 0,
    "hideHardwareSpecs": false,
    "memoryGiB": 192,
    "name": "ml.m5d.12xlarge",
    "vcpuNum": 48
   },
   {
    "_defaultOrder": 18,
    "_isFastLaunch": false,
    "category": "General purpose",
    "gpuNum": 0,
    "hideHardwareSpecs": false,
    "memoryGiB": 256,
    "name": "ml.m5d.16xlarge",
    "vcpuNum": 64
   },
   {
    "_defaultOrder": 19,
    "_isFastLaunch": false,
    "category": "General purpose",
    "gpuNum": 0,
    "hideHardwareSpecs": false,
    "memoryGiB": 384,
    "name": "ml.m5d.24xlarge",
    "vcpuNum": 96
   },
   {
    "_defaultOrder": 20,
    "_isFastLaunch": false,
    "category": "General purpose",
    "gpuNum": 0,
    "hideHardwareSpecs": true,
    "memoryGiB": 0,
    "name": "ml.geospatial.interactive",
    "supportedImageNames": [
     "sagemaker-geospatial-v1-0"
    ],
    "vcpuNum": 0
   },
   {
    "_defaultOrder": 21,
    "_isFastLaunch": true,
    "category": "Compute optimized",
    "gpuNum": 0,
    "hideHardwareSpecs": false,
    "memoryGiB": 4,
    "name": "ml.c5.large",
    "vcpuNum": 2
   },
   {
    "_defaultOrder": 22,
    "_isFastLaunch": false,
    "category": "Compute optimized",
    "gpuNum": 0,
    "hideHardwareSpecs": false,
    "memoryGiB": 8,
    "name": "ml.c5.xlarge",
    "vcpuNum": 4
   },
   {
    "_defaultOrder": 23,
    "_isFastLaunch": false,
    "category": "Compute optimized",
    "gpuNum": 0,
    "hideHardwareSpecs": false,
    "memoryGiB": 16,
    "name": "ml.c5.2xlarge",
    "vcpuNum": 8
   },
   {
    "_defaultOrder": 24,
    "_isFastLaunch": false,
    "category": "Compute optimized",
    "gpuNum": 0,
    "hideHardwareSpecs": false,
    "memoryGiB": 32,
    "name": "ml.c5.4xlarge",
    "vcpuNum": 16
   },
   {
    "_defaultOrder": 25,
    "_isFastLaunch": false,
    "category": "Compute optimized",
    "gpuNum": 0,
    "hideHardwareSpecs": false,
    "memoryGiB": 72,
    "name": "ml.c5.9xlarge",
    "vcpuNum": 36
   },
   {
    "_defaultOrder": 26,
    "_isFastLaunch": false,
    "category": "Compute optimized",
    "gpuNum": 0,
    "hideHardwareSpecs": false,
    "memoryGiB": 96,
    "name": "ml.c5.12xlarge",
    "vcpuNum": 48
   },
   {
    "_defaultOrder": 27,
    "_isFastLaunch": false,
    "category": "Compute optimized",
    "gpuNum": 0,
    "hideHardwareSpecs": false,
    "memoryGiB": 144,
    "name": "ml.c5.18xlarge",
    "vcpuNum": 72
   },
   {
    "_defaultOrder": 28,
    "_isFastLaunch": false,
    "category": "Compute optimized",
    "gpuNum": 0,
    "hideHardwareSpecs": false,
    "memoryGiB": 192,
    "name": "ml.c5.24xlarge",
    "vcpuNum": 96
   },
   {
    "_defaultOrder": 29,
    "_isFastLaunch": true,
    "category": "Accelerated computing",
    "gpuNum": 1,
    "hideHardwareSpecs": false,
    "memoryGiB": 16,
    "name": "ml.g4dn.xlarge",
    "vcpuNum": 4
   },
   {
    "_defaultOrder": 30,
    "_isFastLaunch": false,
    "category": "Accelerated computing",
    "gpuNum": 1,
    "hideHardwareSpecs": false,
    "memoryGiB": 32,
    "name": "ml.g4dn.2xlarge",
    "vcpuNum": 8
   },
   {
    "_defaultOrder": 31,
    "_isFastLaunch": false,
    "category": "Accelerated computing",
    "gpuNum": 1,
    "hideHardwareSpecs": false,
    "memoryGiB": 64,
    "name": "ml.g4dn.4xlarge",
    "vcpuNum": 16
   },
   {
    "_defaultOrder": 32,
    "_isFastLaunch": false,
    "category": "Accelerated computing",
    "gpuNum": 1,
    "hideHardwareSpecs": false,
    "memoryGiB": 128,
    "name": "ml.g4dn.8xlarge",
    "vcpuNum": 32
   },
   {
    "_defaultOrder": 33,
    "_isFastLaunch": false,
    "category": "Accelerated computing",
    "gpuNum": 4,
    "hideHardwareSpecs": false,
    "memoryGiB": 192,
    "name": "ml.g4dn.12xlarge",
    "vcpuNum": 48
   },
   {
    "_defaultOrder": 34,
    "_isFastLaunch": false,
    "category": "Accelerated computing",
    "gpuNum": 1,
    "hideHardwareSpecs": false,
    "memoryGiB": 256,
    "name": "ml.g4dn.16xlarge",
    "vcpuNum": 64
   },
   {
    "_defaultOrder": 35,
    "_isFastLaunch": false,
    "category": "Accelerated computing",
    "gpuNum": 1,
    "hideHardwareSpecs": false,
    "memoryGiB": 61,
    "name": "ml.p3.2xlarge",
    "vcpuNum": 8
   },
   {
    "_defaultOrder": 36,
    "_isFastLaunch": false,
    "category": "Accelerated computing",
    "gpuNum": 4,
    "hideHardwareSpecs": false,
    "memoryGiB": 244,
    "name": "ml.p3.8xlarge",
    "vcpuNum": 32
   },
   {
    "_defaultOrder": 37,
    "_isFastLaunch": false,
    "category": "Accelerated computing",
    "gpuNum": 8,
    "hideHardwareSpecs": false,
    "memoryGiB": 488,
    "name": "ml.p3.16xlarge",
    "vcpuNum": 64
   },
   {
    "_defaultOrder": 38,
    "_isFastLaunch": false,
    "category": "Accelerated computing",
    "gpuNum": 8,
    "hideHardwareSpecs": false,
    "memoryGiB": 768,
    "name": "ml.p3dn.24xlarge",
    "vcpuNum": 96
   },
   {
    "_defaultOrder": 39,
    "_isFastLaunch": false,
    "category": "Memory Optimized",
    "gpuNum": 0,
    "hideHardwareSpecs": false,
    "memoryGiB": 16,
    "name": "ml.r5.large",
    "vcpuNum": 2
   },
   {
    "_defaultOrder": 40,
    "_isFastLaunch": false,
    "category": "Memory Optimized",
    "gpuNum": 0,
    "hideHardwareSpecs": false,
    "memoryGiB": 32,
    "name": "ml.r5.xlarge",
    "vcpuNum": 4
   },
   {
    "_defaultOrder": 41,
    "_isFastLaunch": false,
    "category": "Memory Optimized",
    "gpuNum": 0,
    "hideHardwareSpecs": false,
    "memoryGiB": 64,
    "name": "ml.r5.2xlarge",
    "vcpuNum": 8
   },
   {
    "_defaultOrder": 42,
    "_isFastLaunch": false,
    "category": "Memory Optimized",
    "gpuNum": 0,
    "hideHardwareSpecs": false,
    "memoryGiB": 128,
    "name": "ml.r5.4xlarge",
    "vcpuNum": 16
   },
   {
    "_defaultOrder": 43,
    "_isFastLaunch": false,
    "category": "Memory Optimized",
    "gpuNum": 0,
    "hideHardwareSpecs": false,
    "memoryGiB": 256,
    "name": "ml.r5.8xlarge",
    "vcpuNum": 32
   },
   {
    "_defaultOrder": 44,
    "_isFastLaunch": false,
    "category": "Memory Optimized",
    "gpuNum": 0,
    "hideHardwareSpecs": false,
    "memoryGiB": 384,
    "name": "ml.r5.12xlarge",
    "vcpuNum": 48
   },
   {
    "_defaultOrder": 45,
    "_isFastLaunch": false,
    "category": "Memory Optimized",
    "gpuNum": 0,
    "hideHardwareSpecs": false,
    "memoryGiB": 512,
    "name": "ml.r5.16xlarge",
    "vcpuNum": 64
   },
   {
    "_defaultOrder": 46,
    "_isFastLaunch": false,
    "category": "Memory Optimized",
    "gpuNum": 0,
    "hideHardwareSpecs": false,
    "memoryGiB": 768,
    "name": "ml.r5.24xlarge",
    "vcpuNum": 96
   },
   {
    "_defaultOrder": 47,
    "_isFastLaunch": false,
    "category": "Accelerated computing",
    "gpuNum": 1,
    "hideHardwareSpecs": false,
    "memoryGiB": 16,
    "name": "ml.g5.xlarge",
    "vcpuNum": 4
   },
   {
    "_defaultOrder": 48,
    "_isFastLaunch": false,
    "category": "Accelerated computing",
    "gpuNum": 1,
    "hideHardwareSpecs": false,
    "memoryGiB": 32,
    "name": "ml.g5.2xlarge",
    "vcpuNum": 8
   },
   {
    "_defaultOrder": 49,
    "_isFastLaunch": false,
    "category": "Accelerated computing",
    "gpuNum": 1,
    "hideHardwareSpecs": false,
    "memoryGiB": 64,
    "name": "ml.g5.4xlarge",
    "vcpuNum": 16
   },
   {
    "_defaultOrder": 50,
    "_isFastLaunch": false,
    "category": "Accelerated computing",
    "gpuNum": 1,
    "hideHardwareSpecs": false,
    "memoryGiB": 128,
    "name": "ml.g5.8xlarge",
    "vcpuNum": 32
   },
   {
    "_defaultOrder": 51,
    "_isFastLaunch": false,
    "category": "Accelerated computing",
    "gpuNum": 1,
    "hideHardwareSpecs": false,
    "memoryGiB": 256,
    "name": "ml.g5.16xlarge",
    "vcpuNum": 64
   },
   {
    "_defaultOrder": 52,
    "_isFastLaunch": false,
    "category": "Accelerated computing",
    "gpuNum": 4,
    "hideHardwareSpecs": false,
    "memoryGiB": 192,
    "name": "ml.g5.12xlarge",
    "vcpuNum": 48
   },
   {
    "_defaultOrder": 53,
    "_isFastLaunch": false,
    "category": "Accelerated computing",
    "gpuNum": 4,
    "hideHardwareSpecs": false,
    "memoryGiB": 384,
    "name": "ml.g5.24xlarge",
    "vcpuNum": 96
   },
   {
    "_defaultOrder": 54,
    "_isFastLaunch": false,
    "category": "Accelerated computing",
    "gpuNum": 8,
    "hideHardwareSpecs": false,
    "memoryGiB": 768,
    "name": "ml.g5.48xlarge",
    "vcpuNum": 192
   },
   {
    "_defaultOrder": 55,
    "_isFastLaunch": false,
    "category": "Accelerated computing",
    "gpuNum": 8,
    "hideHardwareSpecs": false,
    "memoryGiB": 1152,
    "name": "ml.p4d.24xlarge",
    "vcpuNum": 96
   },
   {
    "_defaultOrder": 56,
    "_isFastLaunch": false,
    "category": "Accelerated computing",
    "gpuNum": 8,
    "hideHardwareSpecs": false,
    "memoryGiB": 1152,
    "name": "ml.p4de.24xlarge",
    "vcpuNum": 96
   },
   {
    "_defaultOrder": 57,
    "_isFastLaunch": false,
    "category": "Accelerated computing",
    "gpuNum": 0,
    "hideHardwareSpecs": false,
    "memoryGiB": 32,
    "name": "ml.trn1.2xlarge",
    "vcpuNum": 8
   },
   {
    "_defaultOrder": 58,
    "_isFastLaunch": false,
    "category": "Accelerated computing",
    "gpuNum": 0,
    "hideHardwareSpecs": false,
    "memoryGiB": 512,
    "name": "ml.trn1.32xlarge",
    "vcpuNum": 128
   },
   {
    "_defaultOrder": 59,
    "_isFastLaunch": false,
    "category": "Accelerated computing",
    "gpuNum": 0,
    "hideHardwareSpecs": false,
    "memoryGiB": 512,
    "name": "ml.trn1n.32xlarge",
    "vcpuNum": 128
   }
  ],
  "kernelspec": {
   "display_name": "Python 3 (ipykernel)",
   "language": "python",
   "name": "python3"
  },
  "language_info": {
   "codemirror_mode": {
    "name": "ipython",
    "version": 3
   },
   "file_extension": ".py",
   "mimetype": "text/x-python",
   "name": "python",
   "nbconvert_exporter": "python",
   "pygments_lexer": "ipython3",
   "version": "3.11.5"
  }
 },
 "nbformat": 4,
 "nbformat_minor": 5
}
