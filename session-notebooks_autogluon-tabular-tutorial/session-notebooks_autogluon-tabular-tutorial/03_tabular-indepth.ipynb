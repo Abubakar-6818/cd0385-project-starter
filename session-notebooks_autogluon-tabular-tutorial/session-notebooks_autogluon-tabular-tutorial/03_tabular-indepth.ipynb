{
 "cells": [
  {
   "cell_type": "markdown",
   "id": "487344de",
   "metadata": {},
   "source": [
    "# AutoGluon Tabular - In Depth\n",
    "\n",
    "[![Open In Colab](https://colab.research.google.com/assets/colab-badge.svg)](https://colab.research.google.com/github/autogluon/autogluon/blob/master/docs/tutorials/tabular/tabular-indepth.ipynb)\n",
    "[![Open In SageMaker Studio Lab](https://studiolab.sagemaker.aws/studiolab.svg)](https://studiolab.sagemaker.aws/import/github/autogluon/autogluon/blob/master/docs/tutorials/tabular/tabular-indepth.ipynb)\n",
    "\n",
    "\n",
    "**Tip**: If you are new to AutoGluon, review [Predicting Columns in a Table - Quick Start](tabular-quick-start.ipynb) to learn the basics of the AutoGluon API. To learn how to add your own custom models to the set that AutoGluon trains, tunes, and ensembles, review [Adding a custom model to AutoGluon](advanced/tabular-custom-model.ipynb).\n",
    "\n",
    "This tutorial describes how you can exert greater control when using AutoGluon's `fit()` or `predict()`. Recall that to maximize predictive performance, you should first try `TabularPredictor()` and `fit()` with all default arguments.  Then, consider non-default arguments for `TabularPredictor(eval_metric=...)`, and `fit(presets=...)`.  Later, you can experiment with other arguments to fit() covered in this in-depth tutorial like `hyperparameter_tune_kwargs`, `hyperparameters`, `num_stack_levels`, `num_bag_folds`, `num_bag_sets`, etc.\n",
    "\n",
    "Using the same census data table as in the [Predicting Columns in a Table - Quick Start](tabular-quick-start.ipynb) tutorial, we'll now predict the `occupation` of an individual - a multiclass classification problem. Start by importing AutoGluon's TabularPredictor and TabularDataset, and loading the data."
   ]
  },
  {
   "cell_type": "code",
   "execution_count": null,
   "id": "aa00faab-252f-44c9-b8f7-57131aa8251c",
   "metadata": {
    "tags": [
     "remove-cell"
    ]
   },
   "outputs": [],
   "source": [
    "!pip install autogluon.tabular[all]\n"
   ]
  },
  {
   "cell_type": "code",
   "execution_count": 2,
   "id": "a1745414-1f45-4fd4-9f0c-b9f84f520fcd",
   "metadata": {},
   "outputs": [],
   "source": [
    "from autogluon.tabular import TabularDataset, TabularPredictor\n",
    "\n",
    "import numpy as np"
   ]
  },
  {
   "cell_type": "code",
   "execution_count": 3,
   "id": "64c205a7-cc95-4803-8f3e-70615ab84dd0",
   "metadata": {},
   "outputs": [
    {
     "name": "stdout",
     "output_type": "stream",
     "text": [
      "       age workclass  fnlwgt      education  education-num  \\\n",
      "6118    51   Private   39264   Some-college             10   \n",
      "23204   58   Private   51662           10th              6   \n",
      "29590   40   Private  326310   Some-college             10   \n",
      "18116   37   Private  222450        HS-grad              9   \n",
      "33964   62   Private  109190      Bachelors             13   \n",
      "\n",
      "            marital-status        occupation    relationship    race      sex  \\\n",
      "6118    Married-civ-spouse   Exec-managerial            Wife   White   Female   \n",
      "23204   Married-civ-spouse     Other-service            Wife   White   Female   \n",
      "29590   Married-civ-spouse      Craft-repair         Husband   White     Male   \n",
      "18116        Never-married             Sales   Not-in-family   White     Male   \n",
      "33964   Married-civ-spouse   Exec-managerial         Husband   White     Male   \n",
      "\n",
      "       capital-gain  capital-loss  hours-per-week  native-country   class  \n",
      "6118              0             0              40   United-States    >50K  \n",
      "23204             0             0               8   United-States   <=50K  \n",
      "29590             0             0              44   United-States   <=50K  \n",
      "18116             0          2339              40     El-Salvador   <=50K  \n",
      "33964         15024             0              40   United-States    >50K  \n"
     ]
    }
   ],
   "source": [
    "train_data = TabularDataset('data/inc/train.csv')\n",
    "subsample_size = 1000  # subsample subset of data for faster demo, try setting this to much larger values\n",
    "train_data = train_data.sample(n=subsample_size, random_state=0)\n",
    "print(train_data.head())"
   ]
  },
  {
   "cell_type": "code",
   "execution_count": 6,
   "id": "3285cc86-15d9-45ee-ab43-13eadeb8ee1b",
   "metadata": {},
   "outputs": [
    {
     "name": "stdout",
     "output_type": "stream",
     "text": [
      "Summary of occupation column: \n",
      " count              1000\n",
      "unique               15\n",
      "top        Craft-repair\n",
      "freq                142\n",
      "Name: occupation, dtype: object\n"
     ]
    }
   ],
   "source": [
    "label = 'class'\n",
    "print(\"Summary of occupation column: \\n\", train_data['occupation'].describe())"
   ]
  },
  {
   "cell_type": "code",
   "execution_count": 7,
   "id": "b0451bd6-d011-4336-9b5f-5970b3f52942",
   "metadata": {},
   "outputs": [],
   "source": [
    "test_data = TabularDataset('data/inc/test.csv')\n",
    "y_test = test_data[label]\n",
    "test_data_nolabel = test_data.drop(columns=[label])  # delete label column\n",
    "\n",
    "metric = 'accuracy' # we specify eval-metric just for demo (unnecessary as it's the default)"
   ]
  },
  {
   "cell_type": "markdown",
   "id": "98733672",
   "metadata": {},
   "source": [
    "## Specifying hyperparameters and tuning them\n",
    "\n",
    "**Note: We don't recommend doing hyperparameter-tuning with AutoGluon in most cases**. AutoGluon achieves its best performance without hyperparameter tuning and simply specifying `presets=\"best_quality\"`.\n",
    "\n",
    "We first demonstrate hyperparameter-tuning and how you can provide your own validation dataset that AutoGluon internally relies on to: tune hyperparameters, early-stop iterative training, and construct model ensembles. One reason you may specify validation data is when future test data will stem from a different distribution than training data (and your specified validation data is more representative of the future data that will likely be encountered).\n",
    "\n",
    " If you don't have a strong reason to provide your own validation dataset, we recommend you omit the `tuning_data` argument. This lets AutoGluon automatically select validation data from your provided training set (it uses smart strategies such as stratified sampling).  For greater control, you can specify the `holdout_frac` argument to tell AutoGluon what fraction of the provided training data to hold out for validation.\n",
    "\n",
    "**Caution:** Since AutoGluon tunes internal knobs based on this validation data, performance estimates reported on this data may be over-optimistic. For unbiased performance estimates, you should always call `predict()` on a separate dataset (that was never passed to `fit()`), as we did in the previous **Quick-Start** tutorial. We also emphasize that most options specified in this tutorial are chosen to minimize runtime for the purposes of demonstration and you should select more reasonable values in order to obtain high-quality models.\n",
    "\n",
    "`fit()` trains neural networks and various types of tree ensembles by default. You can specify various hyperparameter values for each type of model. For each hyperparameter, you can either specify a single fixed value, or a search space of values to consider during hyperparameter optimization. Hyperparameters which you do not specify are left at default settings chosen automatically by AutoGluon, which may be fixed values or search spaces.\n",
    "\n",
    "Refer to the [Search Space documentation](../../api/autogluon.common.space.rst) to learn more about AutoGluon search space."
   ]
  },
  {
   "cell_type": "code",
   "execution_count": null,
   "id": "b4f2ee7e-a3ef-4bd4-a4e1-5286a1d7d2c2",
   "metadata": {},
   "outputs": [],
   "source": [
    "{\n",
    "\t'NN_TORCH': {},\n",
    "\t'GBM': [{'extra_trees': True, 'ag_args': {'name_suffix': 'XT'}}, {}, 'GBMLarge'],\n",
    "\t'CAT': {},\n",
    "\t'XGB': {},\n",
    "\t'FASTAI': {},\n",
    "\t'RF': [{'criterion': 'gini', 'ag_args': {'name_suffix': 'Gini', 'problem_types': ['binary', 'multiclass']}}, {'criterion': 'entropy', 'ag_args': {'name_suffix': 'Entr', 'problem_types': ['binary', 'multiclass']}}, {'criterion': 'squared_error', 'ag_args': {'name_suffix': 'MSE', 'problem_types': ['regression', 'quantile']}}],\n",
    "\t'XT': [{'criterion': 'gini', 'ag_args': {'name_suffix': 'Gini', 'problem_types': ['binary', 'multiclass']}}, {'criterion': 'entropy', 'ag_args': {'name_suffix': 'Entr', 'problem_types': ['binary', 'multiclass']}}, {'criterion': 'squared_error', 'ag_args': {'name_suffix': 'MSE', 'problem_types': ['regression', 'quantile']}}],\n",
    "\t'KNN': [{'weights': 'uniform', 'ag_args': {'name_suffix': 'Unif'}}, {'weights': 'distance', 'ag_args': {'name_suffix': 'Dist'}}],\n",
    "}"
   ]
  },
  {
   "cell_type": "code",
   "execution_count": null,
   "id": "0acd2a0a-f996-407e-a1e7-cbb0fe5ff563",
   "metadata": {},
   "outputs": [],
   "source": [
    "{\n",
    "\t'NN_TORCH': [{}, {'activation': 'elu', 'dropout_prob': 0.10077639529843717, 'hidden_size': 108, 'learning_rate': 0.002735937344002146, 'num_layers': 4, 'use_batchnorm': True, 'weight_decay': 1.356433327634438e-12, 'ag_args': {'name_suffix': '_r79', 'priority': -2}}, {'activation': 'elu', 'dropout_prob': 0.11897478034205347, 'hidden_size': 213, 'learning_rate': 0.0010474382260641949, 'num_layers': 4, 'use_batchnorm': False, 'weight_decay': 5.594471067786272e-10, 'ag_args': {'name_suffix': '_r22', 'priority': -7}}],\n",
    "\t'GBM': [{'extra_trees': True, 'ag_args': {'name_suffix': 'XT'}}, {}, 'GBMLarge'],\n",
    "\t'CAT': [{}, {'depth': 6, 'grow_policy': 'SymmetricTree', 'l2_leaf_reg': 2.1542798306067823, 'learning_rate': 0.06864209415792857, 'max_ctr_complexity': 4, 'one_hot_max_size': 10, 'ag_args': {'name_suffix': '_r177', 'priority': -1}}, {'depth': 8, 'grow_policy': 'Depthwise', 'l2_leaf_reg': 2.7997999596449104, 'learning_rate': 0.031375015734637225, 'max_ctr_complexity': 2, 'one_hot_max_size': 3, 'ag_args': {'name_suffix': '_r9', 'priority': -5}}],\n",
    "\t'XGB': [{}, {'colsample_bytree': 0.6917311125174739, 'enable_categorical': False, 'learning_rate': 0.018063876087523967, 'max_depth': 10, 'min_child_weight': 0.6028633586934382, 'ag_args': {'name_suffix': '_r33', 'priority': -8}}, {'colsample_bytree': 0.6628423832084077, 'enable_categorical': False, 'learning_rate': 0.08775715546881824, 'max_depth': 5, 'min_child_weight': 0.6294123374222513, 'ag_args': {'name_suffix': '_r89', 'priority': -16}}],\n",
    "\t'FASTAI': [{}, {'bs': 256, 'emb_drop': 0.5411770367537934, 'epochs': 43, 'layers': [800, 400], 'lr': 0.01519848858318159, 'ps': 0.23782946566604385, 'ag_args': {'name_suffix': '_r191', 'priority': -4}}, {'bs': 2048, 'emb_drop': 0.05070411322605811, 'epochs': 29, 'layers': [200, 100], 'lr': 0.08974235041576624, 'ps': 0.10393466140748028, 'ag_args': {'name_suffix': '_r102', 'priority': -11}}],\n",
    "\t'RF': [{'criterion': 'gini', 'ag_args': {'name_suffix': 'Gini', 'problem_types': ['binary', 'multiclass']}}, {'criterion': 'entropy', 'ag_args': {'name_suffix': 'Entr', 'problem_types': ['binary', 'multiclass']}}, {'criterion': 'squared_error', 'ag_args': {'name_suffix': 'MSE', 'problem_types': ['regression', 'quantile']}}],\n",
    "\t'XT': [{'criterion': 'gini', 'ag_args': {'name_suffix': 'Gini', 'problem_types': ['binary', 'multiclass']}}, {'criterion': 'entropy', 'ag_args': {'name_suffix': 'Entr', 'problem_types': ['binary', 'multiclass']}}, {'criterion': 'squared_error', 'ag_args': {'name_suffix': 'MSE', 'problem_types': ['regression', 'quantile']}}],\n",
    "\t'KNN': [{'weights': 'uniform', 'ag_args': {'name_suffix': 'Unif'}}, {'weights': 'distance', 'ag_args': {'name_suffix': 'Dist'}}],\n",
    "}"
   ]
  },
  {
   "cell_type": "code",
   "execution_count": 19,
   "id": "973d9c0c-941c-4744-827a-8d0f12c8f3ce",
   "metadata": {},
   "outputs": [
    {
     "data": {
      "text/plain": [
       "{'GBM': {'num_boost_round': 100, 'num_leaves': Int: lower=26, upper=66},\n",
       " 'NN_TORCH': {'num_epochs': 10,\n",
       "  'learning_rate': Real: lower=0.0001, upper=0.01,\n",
       "  'activation': Categorical['relu', 'softrelu', 'tanh'],\n",
       "  'dropout_prob': Real: lower=0.0, upper=0.5}}"
      ]
     },
     "execution_count": 19,
     "metadata": {},
     "output_type": "execute_result"
    }
   ],
   "source": [
    "hyperparameters"
   ]
  },
  {
   "cell_type": "code",
   "execution_count": 27,
   "id": "87f28cf4",
   "metadata": {
    "jupyter": {
     "outputs_hidden": false
    }
   },
   "outputs": [
    {
     "name": "stderr",
     "output_type": "stream",
     "text": [
      "No path specified. Models will be saved in: \"AutogluonModels/ag-20240428_195449\"\n",
      "No presets specified! To achieve strong results with AutoGluon, it is recommended to use the available presets.\n",
      "\tRecommended Presets (For more details refer to https://auto.gluon.ai/stable/tutorials/tabular/tabular-essentials.html#presets):\n",
      "\tpresets='best_quality'   : Maximize accuracy. Default time_limit=3600.\n",
      "\tpresets='high_quality'   : Strong accuracy with fast inference speed. Default time_limit=3600.\n",
      "\tpresets='good_quality'   : Good accuracy with very fast inference speed. Default time_limit=3600.\n",
      "\tpresets='medium_quality' : Fast training time, ideal for initial prototyping.\n",
      "Warning: hyperparameter tuning is currently experimental and may cause the process to hang.\n",
      "Beginning AutoGluon training ... Time limit = 120s\n",
      "AutoGluon will save models to \"AutogluonModels/ag-20240428_195449\"\n",
      "=================== System Info ===================\n",
      "AutoGluon Version:  1.1.0\n",
      "Python Version:     3.10.6\n",
      "Operating System:   Linux\n",
      "Platform Machine:   x86_64\n",
      "Platform Version:   #1 SMP Sat Mar 23 09:49:55 UTC 2024\n",
      "CPU Count:          2\n",
      "Memory Avail:       2.02 GB / 3.78 GB (53.4%)\n",
      "Disk Space Avail:   8589934580.69 GB / 8589934592.00 GB (100.0%)\n",
      "===================================================\n",
      "Train Data Rows:    1000\n",
      "Train Data Columns: 14\n",
      "Label Column:       class\n",
      "AutoGluon infers your prediction problem is: 'binary' (because only two unique label-values observed).\n",
      "\t2 unique label values:  [' >50K', ' <=50K']\n",
      "\tIf 'binary' is not the correct problem_type, please manually specify the problem_type parameter during predictor init (You may specify problem_type as one of: ['binary', 'multiclass', 'regression'])\n",
      "Problem Type:       binary\n",
      "Preprocessing data ...\n",
      "Selected class <--> label mapping:  class 1 =  >50K, class 0 =  <=50K\n",
      "\tNote: For your binary classification, AutoGluon arbitrarily selected which label-value represents positive ( >50K) vs negative ( <=50K) class.\n",
      "\tTo explicitly set the positive_class, either rename classes to 1 and 0, or specify positive_class in Predictor init.\n",
      "Using Feature Generators to preprocess the data ...\n",
      "Fitting AutoMLPipelineFeatureGenerator...\n",
      "\tAvailable Memory:                    2066.90 MB\n",
      "\tTrain Data (Original)  Memory Usage: 0.56 MB (0.0% of available memory)\n",
      "\tInferring data type of each feature based on column values. Set feature_metadata_in to manually specify special dtypes of the features.\n",
      "\tStage 1 Generators:\n",
      "\t\tFitting AsTypeFeatureGenerator...\n",
      "\t\t\tNote: Converting 1 features to boolean dtype as they only contain 2 unique values.\n",
      "\tStage 2 Generators:\n",
      "\t\tFitting FillNaFeatureGenerator...\n",
      "\tStage 3 Generators:\n",
      "\t\tFitting IdentityFeatureGenerator...\n",
      "\t\tFitting CategoryFeatureGenerator...\n",
      "\t\t\tFitting CategoryMemoryMinimizeFeatureGenerator...\n",
      "\tStage 4 Generators:\n",
      "\t\tFitting DropUniqueFeatureGenerator...\n",
      "\tStage 5 Generators:\n",
      "\t\tFitting DropDuplicatesFeatureGenerator...\n",
      "\tTypes of features in original data (raw dtype, special dtypes):\n",
      "\t\t('int', [])    : 6 | ['age', 'fnlwgt', 'education-num', 'capital-gain', 'capital-loss', ...]\n",
      "\t\t('object', []) : 8 | ['workclass', 'education', 'marital-status', 'occupation', 'relationship', ...]\n",
      "\tTypes of features in processed data (raw dtype, special dtypes):\n",
      "\t\t('category', [])  : 7 | ['workclass', 'education', 'marital-status', 'occupation', 'relationship', ...]\n",
      "\t\t('int', [])       : 6 | ['age', 'fnlwgt', 'education-num', 'capital-gain', 'capital-loss', ...]\n",
      "\t\t('int', ['bool']) : 1 | ['sex']\n",
      "\t0.2s = Fit runtime\n",
      "\t14 features in original data used to generate 14 features in processed data.\n",
      "\tTrain Data (Processed) Memory Usage: 0.06 MB (0.0% of available memory)\n",
      "Data preprocessing and feature engineering runtime = 0.24s ...\n",
      "AutoGluon will gauge predictive performance using evaluation metric: 'accuracy'\n",
      "\tTo change this, specify the eval_metric parameter of Predictor()\n",
      "Automatically generating train/validation split with holdout_frac=0.2, Train Rows: 800, Val Rows: 200\n",
      "User-specified model hyperparameters to be fit:\n",
      "{\n",
      "\t'NN_TORCH': {},\n",
      "\t'GBM': {'num_boost_round': 100, 'num_leaves': Int: lower=26, upper=66},\n",
      "\t'CAT': {'depth': Int: lower=4, upper=7},\n",
      "\t'XGB': {},\n",
      "\t'FASTAI': {},\n",
      "\t'RF': [{'criterion': 'gini', 'ag_args': {'name_suffix': 'Gini', 'problem_types': ['binary', 'multiclass']}}, {'criterion': 'entropy', 'ag_args': {'name_suffix': 'Entr', 'problem_types': ['binary', 'multiclass']}}, {'criterion': 'squared_error', 'ag_args': {'name_suffix': 'MSE', 'problem_types': ['regression', 'quantile']}}],\n",
      "\t'XT': [{'criterion': 'gini', 'ag_args': {'name_suffix': 'Gini', 'problem_types': ['binary', 'multiclass']}}, {'criterion': 'entropy', 'ag_args': {'name_suffix': 'Entr', 'problem_types': ['binary', 'multiclass']}}, {'criterion': 'squared_error', 'ag_args': {'name_suffix': 'MSE', 'problem_types': ['regression', 'quantile']}}],\n",
      "\t'KNN': [{'weights': 'uniform', 'ag_args': {'name_suffix': 'Unif'}}, {'weights': 'distance', 'ag_args': {'name_suffix': 'Dist'}}],\n",
      "}\n",
      "Fitting 11 L1 models ...\n",
      "Hyperparameter tuning model: KNeighborsUnif ... Tuning model for up to 9.8s of the 119.75s of remaining time.\n",
      "\tNo hyperparameter search space specified for KNeighborsUnif. Skipping HPO. Will train one model based on the provided hyperparameters.\n",
      "Fitted model: KNeighborsUnif ...\n",
      "\t0.7188\t = Validation score   (accuracy)\n",
      "\t0.01s\t = Training   runtime\n",
      "\t0.02s\t = Validation runtime\n",
      "Hyperparameter tuning model: KNeighborsDist ... Tuning model for up to 9.8s of the 119.61s of remaining time.\n",
      "\tNo hyperparameter search space specified for KNeighborsDist. Skipping HPO. Will train one model based on the provided hyperparameters.\n",
      "Fitted model: KNeighborsDist ...\n",
      "\t0.69\t = Validation score   (accuracy)\n",
      "\t0.01s\t = Training   runtime\n",
      "\t0.03s\t = Validation runtime\n",
      "Hyperparameter tuning model: LightGBM ... Tuning model for up to 9.8s of the 119.5s of remaining time.\n"
     ]
    },
    {
     "data": {
      "application/vnd.jupyter.widget-view+json": {
       "model_id": "5cfcb4fc6c314ffcb5759a275b1f61fd",
       "version_major": 2,
       "version_minor": 0
      },
      "text/plain": [
       "  0%|          | 0/5 [00:00<?, ?it/s]"
      ]
     },
     "metadata": {},
     "output_type": "display_data"
    },
    {
     "name": "stderr",
     "output_type": "stream",
     "text": [
      "Fitted model: LightGBM/T1 ...\n",
      "\t0.84\t = Validation score   (accuracy)\n",
      "\t0.5s\t = Training   runtime\n",
      "\t0.01s\t = Validation runtime\n",
      "Fitted model: LightGBM/T2 ...\n",
      "\t0.825\t = Validation score   (accuracy)\n",
      "\t0.43s\t = Training   runtime\n",
      "\t0.01s\t = Validation runtime\n",
      "Fitted model: LightGBM/T3 ...\n",
      "\t0.865\t = Validation score   (accuracy)\n",
      "\t0.37s\t = Training   runtime\n",
      "\t0.01s\t = Validation runtime\n",
      "Fitted model: LightGBM/T4 ...\n",
      "\t0.79\t = Validation score   (accuracy)\n",
      "\t0.49s\t = Training   runtime\n",
      "\t0.01s\t = Validation runtime\n",
      "Fitted model: LightGBM/T5 ...\n",
      "\t0.85\t = Validation score   (accuracy)\n",
      "\t0.57s\t = Training   runtime\n",
      "\t0.01s\t = Validation runtime\n",
      "Hyperparameter tuning model: RandomForestGini ... Tuning model for up to 9.8s of the 116.64s of remaining time.\n",
      "\tNo hyperparameter search space specified for RandomForestGini. Skipping HPO. Will train one model based on the provided hyperparameters.\n",
      "Fitted model: RandomForestGini ...\n",
      "\t0.8387\t = Validation score   (accuracy)\n",
      "\t1.22s\t = Training   runtime\n",
      "\t0.16s\t = Validation runtime\n",
      "Hyperparameter tuning model: RandomForestEntr ... Tuning model for up to 9.8s of the 115.09s of remaining time.\n",
      "\tNo hyperparameter search space specified for RandomForestEntr. Skipping HPO. Will train one model based on the provided hyperparameters.\n",
      "Fitted model: RandomForestEntr ...\n",
      "\t0.8337\t = Validation score   (accuracy)\n",
      "\t0.98s\t = Training   runtime\n",
      "\t0.23s\t = Validation runtime\n",
      "Hyperparameter tuning model: CatBoost ... Tuning model for up to 9.8s of the 113.72s of remaining time.\n"
     ]
    },
    {
     "data": {
      "application/vnd.jupyter.widget-view+json": {
       "model_id": "2a2e57531c2c4cee8e78bbdd694e4903",
       "version_major": 2,
       "version_minor": 0
      },
      "text/plain": [
       "  0%|          | 0/5 [00:00<?, ?it/s]"
      ]
     },
     "metadata": {},
     "output_type": "display_data"
    },
    {
     "name": "stderr",
     "output_type": "stream",
     "text": [
      "\tRan out of time, early stopping on iteration 228.\n",
      "\tStopping HPO to satisfy time limit...\n",
      "Fitted model: CatBoost/T1 ...\n",
      "\t0.86\t = Validation score   (accuracy)\n",
      "\t4.5s\t = Training   runtime\n",
      "\t0.01s\t = Validation runtime\n",
      "Fitted model: CatBoost/T2 ...\n",
      "\t0.86\t = Validation score   (accuracy)\n",
      "\t1.85s\t = Training   runtime\n",
      "\t0.01s\t = Validation runtime\n",
      "Fitted model: CatBoost/T3 ...\n",
      "\t0.86\t = Validation score   (accuracy)\n",
      "\t2.31s\t = Training   runtime\n",
      "\t0.01s\t = Validation runtime\n",
      "Hyperparameter tuning model: ExtraTreesGini ... Tuning model for up to 9.8s of the 104.74s of remaining time.\n",
      "\tNo hyperparameter search space specified for ExtraTreesGini. Skipping HPO. Will train one model based on the provided hyperparameters.\n",
      "Fitted model: ExtraTreesGini ...\n",
      "\t0.8325\t = Validation score   (accuracy)\n",
      "\t1.17s\t = Training   runtime\n",
      "\t0.19s\t = Validation runtime\n",
      "Hyperparameter tuning model: ExtraTreesEntr ... Tuning model for up to 9.8s of the 103.06s of remaining time.\n",
      "\tNo hyperparameter search space specified for ExtraTreesEntr. Skipping HPO. Will train one model based on the provided hyperparameters.\n",
      "Fitted model: ExtraTreesEntr ...\n",
      "\t0.8325\t = Validation score   (accuracy)\n",
      "\t1.15s\t = Training   runtime\n",
      "\t0.19s\t = Validation runtime\n",
      "Hyperparameter tuning model: NeuralNetFastAI ... Tuning model for up to 9.8s of the 101.4s of remaining time.\n",
      "Warning: Exception caused NeuralNetFastAI to fail during hyperparameter tuning... Skipping this model.\n",
      "Traceback (most recent call last):\n",
      "  File \"/opt/conda/lib/python3.10/site-packages/autogluon/core/trainer/abstract_trainer.py\", line 2237, in _train_single_full\n",
      "    hpo_models, hpo_results = model.hyperparameter_tune(\n",
      "  File \"/opt/conda/lib/python3.10/site-packages/autogluon/core/models/abstract/abstract_model.py\", line 1474, in hyperparameter_tune\n",
      "    return self._hyperparameter_tune(hpo_executor=hpo_executor, **kwargs)\n",
      "  File \"/opt/conda/lib/python3.10/site-packages/autogluon/core/models/abstract/abstract_model.py\", line 1537, in _hyperparameter_tune\n",
      "    hpo_executor.execute(\n",
      "  File \"/opt/conda/lib/python3.10/site-packages/autogluon/core/hpo/executors.py\", line 408, in execute\n",
      "    analysis = run(\n",
      "  File \"/opt/conda/lib/python3.10/site-packages/autogluon/core/hpo/ray_hpo.py\", line 267, in run\n",
      "    tuner = tune.Tuner(\n",
      "  File \"/opt/conda/lib/python3.10/site-packages/ray/tune/tuner.py\", line 166, in __init__\n",
      "    self._local_tuner = TunerInternal(**kwargs)\n",
      "  File \"/opt/conda/lib/python3.10/site-packages/ray/tune/impl/tuner_internal.py\", line 139, in __init__\n",
      "    storage = StorageContext(\n",
      "  File \"/opt/conda/lib/python3.10/site-packages/ray/train/_internal/storage.py\", line 441, in __init__\n",
      "    self.storage_filesystem, self.storage_fs_path = get_fs_and_path(\n",
      "  File \"/opt/conda/lib/python3.10/site-packages/ray/train/_internal/storage.py\", line 306, in get_fs_and_path\n",
      "    return pyarrow.fs.FileSystem.from_uri(storage_path)\n",
      "  File \"pyarrow/_fs.pyx\", line 471, in pyarrow._fs.FileSystem.from_uri\n",
      "  File \"pyarrow/error.pxi\", line 154, in pyarrow.lib.pyarrow_internal_check_status\n",
      "  File \"pyarrow/error.pxi\", line 91, in pyarrow.lib.check_status\n",
      "pyarrow.lib.ArrowInvalid: URI has empty scheme: 'AutogluonModels/ag-20240428_195449/models'\n",
      "URI has empty scheme: 'AutogluonModels/ag-20240428_195449/models'\n",
      "Hyperparameter tuning model: XGBoost ... Tuning model for up to 9.8s of the 101.3s of remaining time.\n"
     ]
    },
    {
     "data": {
      "application/vnd.jupyter.widget-view+json": {
       "model_id": "dd9e4feafbb44edeb6e99a0c0086efa4",
       "version_major": 2,
       "version_minor": 0
      },
      "text/plain": [
       "  0%|          | 0/5 [00:00<?, ?it/s]"
      ]
     },
     "metadata": {},
     "output_type": "display_data"
    },
    {
     "name": "stderr",
     "output_type": "stream",
     "text": [
      "Fitted model: XGBoost/T1 ...\n",
      "\t0.845\t = Validation score   (accuracy)\n",
      "\t0.36s\t = Training   runtime\n",
      "\t0.01s\t = Validation runtime\n",
      "Fitted model: XGBoost/T2 ...\n",
      "\t0.85\t = Validation score   (accuracy)\n",
      "\t0.41s\t = Training   runtime\n",
      "\t0.01s\t = Validation runtime\n",
      "Fitted model: XGBoost/T3 ...\n",
      "\t0.855\t = Validation score   (accuracy)\n",
      "\t0.6s\t = Training   runtime\n",
      "\t0.01s\t = Validation runtime\n",
      "Fitted model: XGBoost/T4 ...\n",
      "\t0.84\t = Validation score   (accuracy)\n",
      "\t0.3s\t = Training   runtime\n",
      "\t0.01s\t = Validation runtime\n",
      "Fitted model: XGBoost/T5 ...\n",
      "\t0.845\t = Validation score   (accuracy)\n",
      "\t0.51s\t = Training   runtime\n",
      "\t0.01s\t = Validation runtime\n",
      "Hyperparameter tuning model: NeuralNetTorch ... Tuning model for up to 9.8s of the 98.45s of remaining time.\n",
      "Warning: Exception caused NeuralNetTorch to fail during hyperparameter tuning... Skipping this model.\n",
      "Traceback (most recent call last):\n",
      "  File \"/opt/conda/lib/python3.10/site-packages/autogluon/core/trainer/abstract_trainer.py\", line 2237, in _train_single_full\n",
      "    hpo_models, hpo_results = model.hyperparameter_tune(\n",
      "  File \"/opt/conda/lib/python3.10/site-packages/autogluon/core/models/abstract/abstract_model.py\", line 1474, in hyperparameter_tune\n",
      "    return self._hyperparameter_tune(hpo_executor=hpo_executor, **kwargs)\n",
      "  File \"/opt/conda/lib/python3.10/site-packages/autogluon/core/models/abstract/abstract_model.py\", line 1537, in _hyperparameter_tune\n",
      "    hpo_executor.execute(\n",
      "  File \"/opt/conda/lib/python3.10/site-packages/autogluon/core/hpo/executors.py\", line 408, in execute\n",
      "    analysis = run(\n",
      "  File \"/opt/conda/lib/python3.10/site-packages/autogluon/core/hpo/ray_hpo.py\", line 267, in run\n",
      "    tuner = tune.Tuner(\n",
      "  File \"/opt/conda/lib/python3.10/site-packages/ray/tune/tuner.py\", line 166, in __init__\n",
      "    self._local_tuner = TunerInternal(**kwargs)\n",
      "  File \"/opt/conda/lib/python3.10/site-packages/ray/tune/impl/tuner_internal.py\", line 139, in __init__\n",
      "    storage = StorageContext(\n",
      "  File \"/opt/conda/lib/python3.10/site-packages/ray/train/_internal/storage.py\", line 441, in __init__\n",
      "    self.storage_filesystem, self.storage_fs_path = get_fs_and_path(\n",
      "  File \"/opt/conda/lib/python3.10/site-packages/ray/train/_internal/storage.py\", line 306, in get_fs_and_path\n",
      "    return pyarrow.fs.FileSystem.from_uri(storage_path)\n",
      "  File \"pyarrow/_fs.pyx\", line 471, in pyarrow._fs.FileSystem.from_uri\n",
      "  File \"pyarrow/error.pxi\", line 154, in pyarrow.lib.pyarrow_internal_check_status\n",
      "  File \"pyarrow/error.pxi\", line 91, in pyarrow.lib.check_status\n",
      "pyarrow.lib.ArrowInvalid: URI has empty scheme: 'AutogluonModels/ag-20240428_195449/models'\n",
      "URI has empty scheme: 'AutogluonModels/ag-20240428_195449/models'\n",
      "Fitting model: WeightedEnsemble_L2 ... Training model for up to 119.76s of the 97.4s of remaining time.\n",
      "\tEnsemble Weights: {'CatBoost/T2': 0.5, 'LightGBM/T3': 0.125, 'CatBoost/T1': 0.125, 'XGBoost/T3': 0.125, 'XGBoost/T5': 0.125}\n",
      "\t0.875\t = Validation score   (accuracy)\n",
      "\t0.37s\t = Training   runtime\n",
      "\t0.0s\t = Validation runtime\n",
      "AutoGluon training complete, total runtime = 23.24s ... Best model: \"WeightedEnsemble_L2\"\n",
      "TabularPredictor saved. To load, use: predictor = TabularPredictor.load(\"AutogluonModels/ag-20240428_195449\")\n"
     ]
    }
   ],
   "source": [
    "from autogluon.common import space\n",
    "\n",
    "nn_options = {  # specifies non-default hyperparameter values for neural network models\n",
    "    'num_epochs': 10,  # number of training epochs (controls training time of NN models)\n",
    "    'learning_rate': space.Real(1e-4, 1e-2, default=5e-4, log=True),  # learning rate used in training (real-valued hyperparameter searched on log-scale)\n",
    "    'activation': space.Categorical('relu', 'softrelu', 'tanh'),  # activation function used in NN (categorical hyperparameter, default = first entry)\n",
    "    'dropout_prob': space.Real(0.0, 0.5, default=0.1),  # dropout probability (real-valued hyperparameter)\n",
    "}\n",
    "\n",
    "gbm_options = {  # specifies non-default hyperparameter values for lightGBM gradient boosted trees\n",
    "    'num_boost_round': 100,  # number of boosting rounds (controls training time of GBM models)\n",
    "    'num_leaves': space.Int(lower=26, upper=66, default=36),  # number of leaves in trees (integer hyperparameter)\n",
    "}\n",
    "\n",
    "hyperparameters = {  # hyperparameters of each model type\n",
    "                   'NN_TORCH': {},\n",
    "                   'GBM': gbm_options,\n",
    "\t'CAT': {'depth': space.Int(lower=4, upper=7, default=6)},\n",
    "\t'XGB': {},\n",
    "\t'FASTAI': {},\n",
    "\t'RF': [{'criterion': 'gini', 'ag_args': {'name_suffix': 'Gini', 'problem_types': ['binary', 'multiclass']}}, {'criterion': 'entropy', 'ag_args': {'name_suffix': 'Entr', 'problem_types': ['binary', 'multiclass']}}, {'criterion': 'squared_error', 'ag_args': {'name_suffix': 'MSE', 'problem_types': ['regression', 'quantile']}}],\n",
    "\t'XT': [{'criterion': 'gini', 'ag_args': {'name_suffix': 'Gini', 'problem_types': ['binary', 'multiclass']}}, {'criterion': 'entropy', 'ag_args': {'name_suffix': 'Entr', 'problem_types': ['binary', 'multiclass']}}, {'criterion': 'squared_error', 'ag_args': {'name_suffix': 'MSE', 'problem_types': ['regression', 'quantile']}}],\n",
    "\t'KNN': [{'weights': 'uniform', 'ag_args': {'name_suffix': 'Unif'}}, {'weights': 'distance', 'ag_args': {'name_suffix': 'Dist'}}],}\n",
    "                   #'NN_TORCH': nn_options,  # NOTE: comment this line out if you get errors on Mac OSX\n",
    "                    # When these keys are missing from hyperparameters dict, no models of that type are trained\n",
    "\n",
    "time_limit = 2*60  # train various models for ~2 min\n",
    "num_trials = 5  # try at most 5 different hyperparameter configurations for each type of model\n",
    "search_strategy = 'auto'  # to tune hyperparameters using random search routine with a local scheduler\n",
    "\n",
    "hyperparameter_tune_kwargs = {  # HPO is not performed unless hyperparameter_tune_kwargs is specified\n",
    "    'num_trials': num_trials,\n",
    "    'scheduler' : 'local',\n",
    "    'searcher': search_strategy,\n",
    "}  # Refer to TabularPredictor.fit docstring for all valid values\n",
    "\n",
    "predictor = TabularPredictor(label=label, eval_metric=metric).fit(\n",
    "    train_data,\n",
    "    time_limit=time_limit,\n",
    "    hyperparameters=hyperparameters,\n",
    "    hyperparameter_tune_kwargs=hyperparameter_tune_kwargs,\n",
    ")"
   ]
  },
  {
   "cell_type": "markdown",
   "id": "816e4beb",
   "metadata": {},
   "source": [
    "We again demonstrate how to use the trained models to predict on the test data."
   ]
  },
  {
   "cell_type": "code",
   "execution_count": 28,
   "id": "3bf2965a",
   "metadata": {
    "jupyter": {
     "outputs_hidden": false
    }
   },
   "outputs": [
    {
     "name": "stdout",
     "output_type": "stream",
     "text": [
      "Predictions:   [' <=50K', ' <=50K', ' >50K', ' <=50K', ' <=50K']\n"
     ]
    }
   ],
   "source": [
    "y_pred = predictor.predict(test_data_nolabel)\n",
    "print(\"Predictions:  \", list(y_pred)[:5])\n",
    "perf = predictor.evaluate(test_data, auxiliary_metrics=False)"
   ]
  },
  {
   "cell_type": "markdown",
   "id": "5c2f4648",
   "metadata": {},
   "source": [
    "Use the following to view a summary of what happened during `fit()`. Now this command will show details of the hyperparameter-tuning process for each type of model:"
   ]
  },
  {
   "cell_type": "code",
   "execution_count": 29,
   "id": "1bfc4fe3",
   "metadata": {
    "jupyter": {
     "outputs_hidden": false
    }
   },
   "outputs": [
    {
     "name": "stdout",
     "output_type": "stream",
     "text": [
      "*** Summary of fit() ***\n",
      "Estimated performance of each model:\n",
      "                  model  score_val eval_metric  pred_time_val  fit_time  pred_time_val_marginal  fit_time_marginal  stack_level  can_infer  fit_order\n",
      "0   WeightedEnsemble_L2    0.87500    accuracy       0.043390  8.187423                0.001005           0.371482            2       True         20\n",
      "1           LightGBM/T3    0.86500    accuracy       0.006300  0.365093                0.006300           0.365093            1       True          5\n",
      "2           CatBoost/T2    0.86000    accuracy       0.005765  1.845296                0.005765           1.845296            1       True         11\n",
      "3           CatBoost/T1    0.86000    accuracy       0.006467  4.499032                0.006467           4.499032            1       True         10\n",
      "4           CatBoost/T3    0.86000    accuracy       0.008150  2.307880                0.008150           2.307880            1       True         12\n",
      "5            XGBoost/T3    0.85500    accuracy       0.013000  0.598752                0.013000           0.598752            1       True         17\n",
      "6           LightGBM/T5    0.85000    accuracy       0.008115  0.570261                0.008115           0.570261            1       True          7\n",
      "7            XGBoost/T2    0.85000    accuracy       0.009444  0.408789                0.009444           0.408789            1       True         16\n",
      "8            XGBoost/T1    0.84500    accuracy       0.008365  0.358330                0.008365           0.358330            1       True         15\n",
      "9            XGBoost/T5    0.84500    accuracy       0.010852  0.507769                0.010852           0.507769            1       True         19\n",
      "10          LightGBM/T1    0.84000    accuracy       0.007262  0.500420                0.007262           0.500420            1       True          3\n",
      "11           XGBoost/T4    0.84000    accuracy       0.008432  0.303742                0.008432           0.303742            1       True         18\n",
      "12     RandomForestGini    0.83875    accuracy       0.158155  1.224577                0.158155           1.224577            1       True          8\n",
      "13     RandomForestEntr    0.83375    accuracy       0.228936  0.977221                0.228936           0.977221            1       True          9\n",
      "14       ExtraTreesGini    0.83250    accuracy       0.186833  1.167401                0.186833           1.167401            1       True         13\n",
      "15       ExtraTreesEntr    0.83250    accuracy       0.191941  1.148614                0.191941           1.148614            1       True         14\n",
      "16          LightGBM/T2    0.82500    accuracy       0.006356  0.425302                0.006356           0.425302            1       True          4\n",
      "17          LightGBM/T4    0.79000    accuracy       0.010287  0.485875                0.010287           0.485875            1       True          6\n",
      "18       KNeighborsUnif    0.71875    accuracy       0.015938  0.014934                0.015938           0.014934            1       True          1\n",
      "19       KNeighborsDist    0.69000    accuracy       0.026862  0.005498                0.026862           0.005498            1       True          2\n",
      "Number of models trained: 20\n",
      "Types of models trained:\n",
      "{'XTModel', 'RFModel', 'CatBoostModel', 'LGBModel', 'KNNModel', 'WeightedEnsembleModel', 'XGBoostModel'}\n",
      "Bagging used: False \n",
      "Multi-layer stack-ensembling used: False \n",
      "Feature Metadata (Processed):\n",
      "(raw dtype, special dtypes):\n",
      "('category', [])  : 7 | ['workclass', 'education', 'marital-status', 'occupation', 'relationship', ...]\n",
      "('int', [])       : 6 | ['age', 'fnlwgt', 'education-num', 'capital-gain', 'capital-loss', ...]\n",
      "('int', ['bool']) : 1 | ['sex']\n",
      "Plot summary of models saved to file: AutogluonModels/ag-20240428_195449SummaryOfModels.html\n",
      "*** End of fit() summary ***\n"
     ]
    }
   ],
   "source": [
    "results = predictor.fit_summary()"
   ]
  },
  {
   "cell_type": "code",
   "execution_count": 30,
   "id": "153b7a6e-7531-4e72-9bf4-7c43c95eeb91",
   "metadata": {},
   "outputs": [
    {
     "data": {
      "text/html": [
       "<div>\n",
       "<style scoped>\n",
       "    .dataframe tbody tr th:only-of-type {\n",
       "        vertical-align: middle;\n",
       "    }\n",
       "\n",
       "    .dataframe tbody tr th {\n",
       "        vertical-align: top;\n",
       "    }\n",
       "\n",
       "    .dataframe thead th {\n",
       "        text-align: right;\n",
       "    }\n",
       "</style>\n",
       "<table border=\"1\" class=\"dataframe\">\n",
       "  <thead>\n",
       "    <tr style=\"text-align: right;\">\n",
       "      <th></th>\n",
       "      <th>model</th>\n",
       "      <th>score_val</th>\n",
       "      <th>eval_metric</th>\n",
       "      <th>pred_time_val</th>\n",
       "      <th>fit_time</th>\n",
       "      <th>pred_time_val_marginal</th>\n",
       "      <th>fit_time_marginal</th>\n",
       "      <th>stack_level</th>\n",
       "      <th>can_infer</th>\n",
       "      <th>fit_order</th>\n",
       "    </tr>\n",
       "  </thead>\n",
       "  <tbody>\n",
       "    <tr>\n",
       "      <th>0</th>\n",
       "      <td>WeightedEnsemble_L2</td>\n",
       "      <td>0.87500</td>\n",
       "      <td>accuracy</td>\n",
       "      <td>0.043390</td>\n",
       "      <td>8.187423</td>\n",
       "      <td>0.001005</td>\n",
       "      <td>0.371482</td>\n",
       "      <td>2</td>\n",
       "      <td>True</td>\n",
       "      <td>20</td>\n",
       "    </tr>\n",
       "    <tr>\n",
       "      <th>1</th>\n",
       "      <td>LightGBM/T3</td>\n",
       "      <td>0.86500</td>\n",
       "      <td>accuracy</td>\n",
       "      <td>0.006300</td>\n",
       "      <td>0.365093</td>\n",
       "      <td>0.006300</td>\n",
       "      <td>0.365093</td>\n",
       "      <td>1</td>\n",
       "      <td>True</td>\n",
       "      <td>5</td>\n",
       "    </tr>\n",
       "    <tr>\n",
       "      <th>2</th>\n",
       "      <td>CatBoost/T2</td>\n",
       "      <td>0.86000</td>\n",
       "      <td>accuracy</td>\n",
       "      <td>0.005765</td>\n",
       "      <td>1.845296</td>\n",
       "      <td>0.005765</td>\n",
       "      <td>1.845296</td>\n",
       "      <td>1</td>\n",
       "      <td>True</td>\n",
       "      <td>11</td>\n",
       "    </tr>\n",
       "    <tr>\n",
       "      <th>3</th>\n",
       "      <td>CatBoost/T1</td>\n",
       "      <td>0.86000</td>\n",
       "      <td>accuracy</td>\n",
       "      <td>0.006467</td>\n",
       "      <td>4.499032</td>\n",
       "      <td>0.006467</td>\n",
       "      <td>4.499032</td>\n",
       "      <td>1</td>\n",
       "      <td>True</td>\n",
       "      <td>10</td>\n",
       "    </tr>\n",
       "    <tr>\n",
       "      <th>4</th>\n",
       "      <td>CatBoost/T3</td>\n",
       "      <td>0.86000</td>\n",
       "      <td>accuracy</td>\n",
       "      <td>0.008150</td>\n",
       "      <td>2.307880</td>\n",
       "      <td>0.008150</td>\n",
       "      <td>2.307880</td>\n",
       "      <td>1</td>\n",
       "      <td>True</td>\n",
       "      <td>12</td>\n",
       "    </tr>\n",
       "    <tr>\n",
       "      <th>5</th>\n",
       "      <td>XGBoost/T3</td>\n",
       "      <td>0.85500</td>\n",
       "      <td>accuracy</td>\n",
       "      <td>0.013000</td>\n",
       "      <td>0.598752</td>\n",
       "      <td>0.013000</td>\n",
       "      <td>0.598752</td>\n",
       "      <td>1</td>\n",
       "      <td>True</td>\n",
       "      <td>17</td>\n",
       "    </tr>\n",
       "    <tr>\n",
       "      <th>6</th>\n",
       "      <td>LightGBM/T5</td>\n",
       "      <td>0.85000</td>\n",
       "      <td>accuracy</td>\n",
       "      <td>0.008115</td>\n",
       "      <td>0.570261</td>\n",
       "      <td>0.008115</td>\n",
       "      <td>0.570261</td>\n",
       "      <td>1</td>\n",
       "      <td>True</td>\n",
       "      <td>7</td>\n",
       "    </tr>\n",
       "    <tr>\n",
       "      <th>7</th>\n",
       "      <td>XGBoost/T2</td>\n",
       "      <td>0.85000</td>\n",
       "      <td>accuracy</td>\n",
       "      <td>0.009444</td>\n",
       "      <td>0.408789</td>\n",
       "      <td>0.009444</td>\n",
       "      <td>0.408789</td>\n",
       "      <td>1</td>\n",
       "      <td>True</td>\n",
       "      <td>16</td>\n",
       "    </tr>\n",
       "    <tr>\n",
       "      <th>8</th>\n",
       "      <td>XGBoost/T1</td>\n",
       "      <td>0.84500</td>\n",
       "      <td>accuracy</td>\n",
       "      <td>0.008365</td>\n",
       "      <td>0.358330</td>\n",
       "      <td>0.008365</td>\n",
       "      <td>0.358330</td>\n",
       "      <td>1</td>\n",
       "      <td>True</td>\n",
       "      <td>15</td>\n",
       "    </tr>\n",
       "    <tr>\n",
       "      <th>9</th>\n",
       "      <td>XGBoost/T5</td>\n",
       "      <td>0.84500</td>\n",
       "      <td>accuracy</td>\n",
       "      <td>0.010852</td>\n",
       "      <td>0.507769</td>\n",
       "      <td>0.010852</td>\n",
       "      <td>0.507769</td>\n",
       "      <td>1</td>\n",
       "      <td>True</td>\n",
       "      <td>19</td>\n",
       "    </tr>\n",
       "    <tr>\n",
       "      <th>10</th>\n",
       "      <td>LightGBM/T1</td>\n",
       "      <td>0.84000</td>\n",
       "      <td>accuracy</td>\n",
       "      <td>0.007262</td>\n",
       "      <td>0.500420</td>\n",
       "      <td>0.007262</td>\n",
       "      <td>0.500420</td>\n",
       "      <td>1</td>\n",
       "      <td>True</td>\n",
       "      <td>3</td>\n",
       "    </tr>\n",
       "    <tr>\n",
       "      <th>11</th>\n",
       "      <td>XGBoost/T4</td>\n",
       "      <td>0.84000</td>\n",
       "      <td>accuracy</td>\n",
       "      <td>0.008432</td>\n",
       "      <td>0.303742</td>\n",
       "      <td>0.008432</td>\n",
       "      <td>0.303742</td>\n",
       "      <td>1</td>\n",
       "      <td>True</td>\n",
       "      <td>18</td>\n",
       "    </tr>\n",
       "    <tr>\n",
       "      <th>12</th>\n",
       "      <td>RandomForestGini</td>\n",
       "      <td>0.83875</td>\n",
       "      <td>accuracy</td>\n",
       "      <td>0.158155</td>\n",
       "      <td>1.224577</td>\n",
       "      <td>0.158155</td>\n",
       "      <td>1.224577</td>\n",
       "      <td>1</td>\n",
       "      <td>True</td>\n",
       "      <td>8</td>\n",
       "    </tr>\n",
       "    <tr>\n",
       "      <th>13</th>\n",
       "      <td>RandomForestEntr</td>\n",
       "      <td>0.83375</td>\n",
       "      <td>accuracy</td>\n",
       "      <td>0.228936</td>\n",
       "      <td>0.977221</td>\n",
       "      <td>0.228936</td>\n",
       "      <td>0.977221</td>\n",
       "      <td>1</td>\n",
       "      <td>True</td>\n",
       "      <td>9</td>\n",
       "    </tr>\n",
       "    <tr>\n",
       "      <th>14</th>\n",
       "      <td>ExtraTreesGini</td>\n",
       "      <td>0.83250</td>\n",
       "      <td>accuracy</td>\n",
       "      <td>0.186833</td>\n",
       "      <td>1.167401</td>\n",
       "      <td>0.186833</td>\n",
       "      <td>1.167401</td>\n",
       "      <td>1</td>\n",
       "      <td>True</td>\n",
       "      <td>13</td>\n",
       "    </tr>\n",
       "    <tr>\n",
       "      <th>15</th>\n",
       "      <td>ExtraTreesEntr</td>\n",
       "      <td>0.83250</td>\n",
       "      <td>accuracy</td>\n",
       "      <td>0.191941</td>\n",
       "      <td>1.148614</td>\n",
       "      <td>0.191941</td>\n",
       "      <td>1.148614</td>\n",
       "      <td>1</td>\n",
       "      <td>True</td>\n",
       "      <td>14</td>\n",
       "    </tr>\n",
       "    <tr>\n",
       "      <th>16</th>\n",
       "      <td>LightGBM/T2</td>\n",
       "      <td>0.82500</td>\n",
       "      <td>accuracy</td>\n",
       "      <td>0.006356</td>\n",
       "      <td>0.425302</td>\n",
       "      <td>0.006356</td>\n",
       "      <td>0.425302</td>\n",
       "      <td>1</td>\n",
       "      <td>True</td>\n",
       "      <td>4</td>\n",
       "    </tr>\n",
       "    <tr>\n",
       "      <th>17</th>\n",
       "      <td>LightGBM/T4</td>\n",
       "      <td>0.79000</td>\n",
       "      <td>accuracy</td>\n",
       "      <td>0.010287</td>\n",
       "      <td>0.485875</td>\n",
       "      <td>0.010287</td>\n",
       "      <td>0.485875</td>\n",
       "      <td>1</td>\n",
       "      <td>True</td>\n",
       "      <td>6</td>\n",
       "    </tr>\n",
       "    <tr>\n",
       "      <th>18</th>\n",
       "      <td>KNeighborsUnif</td>\n",
       "      <td>0.71875</td>\n",
       "      <td>accuracy</td>\n",
       "      <td>0.015938</td>\n",
       "      <td>0.014934</td>\n",
       "      <td>0.015938</td>\n",
       "      <td>0.014934</td>\n",
       "      <td>1</td>\n",
       "      <td>True</td>\n",
       "      <td>1</td>\n",
       "    </tr>\n",
       "    <tr>\n",
       "      <th>19</th>\n",
       "      <td>KNeighborsDist</td>\n",
       "      <td>0.69000</td>\n",
       "      <td>accuracy</td>\n",
       "      <td>0.026862</td>\n",
       "      <td>0.005498</td>\n",
       "      <td>0.026862</td>\n",
       "      <td>0.005498</td>\n",
       "      <td>1</td>\n",
       "      <td>True</td>\n",
       "      <td>2</td>\n",
       "    </tr>\n",
       "  </tbody>\n",
       "</table>\n",
       "</div>"
      ],
      "text/plain": [
       "                  model  score_val eval_metric  pred_time_val  fit_time  \\\n",
       "0   WeightedEnsemble_L2    0.87500    accuracy       0.043390  8.187423   \n",
       "1           LightGBM/T3    0.86500    accuracy       0.006300  0.365093   \n",
       "2           CatBoost/T2    0.86000    accuracy       0.005765  1.845296   \n",
       "3           CatBoost/T1    0.86000    accuracy       0.006467  4.499032   \n",
       "4           CatBoost/T3    0.86000    accuracy       0.008150  2.307880   \n",
       "5            XGBoost/T3    0.85500    accuracy       0.013000  0.598752   \n",
       "6           LightGBM/T5    0.85000    accuracy       0.008115  0.570261   \n",
       "7            XGBoost/T2    0.85000    accuracy       0.009444  0.408789   \n",
       "8            XGBoost/T1    0.84500    accuracy       0.008365  0.358330   \n",
       "9            XGBoost/T5    0.84500    accuracy       0.010852  0.507769   \n",
       "10          LightGBM/T1    0.84000    accuracy       0.007262  0.500420   \n",
       "11           XGBoost/T4    0.84000    accuracy       0.008432  0.303742   \n",
       "12     RandomForestGini    0.83875    accuracy       0.158155  1.224577   \n",
       "13     RandomForestEntr    0.83375    accuracy       0.228936  0.977221   \n",
       "14       ExtraTreesGini    0.83250    accuracy       0.186833  1.167401   \n",
       "15       ExtraTreesEntr    0.83250    accuracy       0.191941  1.148614   \n",
       "16          LightGBM/T2    0.82500    accuracy       0.006356  0.425302   \n",
       "17          LightGBM/T4    0.79000    accuracy       0.010287  0.485875   \n",
       "18       KNeighborsUnif    0.71875    accuracy       0.015938  0.014934   \n",
       "19       KNeighborsDist    0.69000    accuracy       0.026862  0.005498   \n",
       "\n",
       "    pred_time_val_marginal  fit_time_marginal  stack_level  can_infer  \\\n",
       "0                 0.001005           0.371482            2       True   \n",
       "1                 0.006300           0.365093            1       True   \n",
       "2                 0.005765           1.845296            1       True   \n",
       "3                 0.006467           4.499032            1       True   \n",
       "4                 0.008150           2.307880            1       True   \n",
       "5                 0.013000           0.598752            1       True   \n",
       "6                 0.008115           0.570261            1       True   \n",
       "7                 0.009444           0.408789            1       True   \n",
       "8                 0.008365           0.358330            1       True   \n",
       "9                 0.010852           0.507769            1       True   \n",
       "10                0.007262           0.500420            1       True   \n",
       "11                0.008432           0.303742            1       True   \n",
       "12                0.158155           1.224577            1       True   \n",
       "13                0.228936           0.977221            1       True   \n",
       "14                0.186833           1.167401            1       True   \n",
       "15                0.191941           1.148614            1       True   \n",
       "16                0.006356           0.425302            1       True   \n",
       "17                0.010287           0.485875            1       True   \n",
       "18                0.015938           0.014934            1       True   \n",
       "19                0.026862           0.005498            1       True   \n",
       "\n",
       "    fit_order  \n",
       "0          20  \n",
       "1           5  \n",
       "2          11  \n",
       "3          10  \n",
       "4          12  \n",
       "5          17  \n",
       "6           7  \n",
       "7          16  \n",
       "8          15  \n",
       "9          19  \n",
       "10          3  \n",
       "11         18  \n",
       "12          8  \n",
       "13          9  \n",
       "14         13  \n",
       "15         14  \n",
       "16          4  \n",
       "17          6  \n",
       "18          1  \n",
       "19          2  "
      ]
     },
     "execution_count": 30,
     "metadata": {},
     "output_type": "execute_result"
    }
   ],
   "source": [
    "results['leaderboard']"
   ]
  },
  {
   "cell_type": "markdown",
   "id": "1d06b7ab",
   "metadata": {},
   "source": [
    "In the above example, the predictive performance may be poor because we specified very little training to ensure quick runtimes.  You can call `fit()` multiple times while modifying the above settings to better understand how these choices affect performance outcomes. For example: you can comment out the `train_data.head` command or increase `subsample_size` to train using a larger dataset, increase the `num_epochs` and `num_boost_round` hyperparameters, and increase the `time_limit` (which you should do for all code in these tutorials).  To see more detailed output during the execution of `fit()`, you can also pass in the argument: `verbosity = 3`."
   ]
  },
  {
   "cell_type": "markdown",
   "id": "cc894bfde6cbc5f1",
   "metadata": {},
   "source": [
    "## Model ensembling with stacking/bagging\n",
    "\n",
    "Beyond hyperparameter-tuning with a correctly-specified evaluation metric, two other methods to boost predictive performance are [bagging and stack-ensembling](https://arxiv.org/abs/2003.06505).  You'll often see performance improve if you specify `num_bag_folds` = 5-10, `num_stack_levels` = 1-3 in the call to `fit()`, but this will increase training times and memory/disk usage."
   ]
  },
  {
   "cell_type": "code",
   "execution_count": null,
   "id": "d821c4af",
   "metadata": {},
   "outputs": [],
   "source": [
    "label = 'class'  # Now lets predict the \"class\" column (binary classification)\n",
    "test_data_nolabel = test_data.drop(columns=[label])\n",
    "y_test = test_data[label]\n",
    "save_path = 'agModels-predictClass'  # folder where to store trained models\n",
    "\n",
    "predictor = TabularPredictor(label=label, eval_metric=metric).fit(train_data,\n",
    "    num_bag_folds=5, num_bag_sets=1, num_stack_levels=1,\n",
    "    hyperparameters = {'NN_TORCH': {'num_epochs': 2}, 'GBM': {'num_boost_round': 20}},  # last  argument is just for quick demo here, omit it in real applications\n",
    ")"
   ]
  },
  {
   "cell_type": "markdown",
   "id": "38f61e8d",
   "metadata": {},
   "source": [
    "You should not provide `tuning_data` when stacking/bagging, and instead provide all your available data as `train_data` (which AutoGluon will split in more intellgent ways). `num_bag_sets` controls how many times the k-fold bagging process is repeated to further reduce variance (increasing this may further boost accuracy but will substantially increase training times, inference latency, and memory/disk usage). Rather than manually searching for good bagging/stacking values yourself, AutoGluon will automatically select good values for you if you specify `auto_stack` instead:"
   ]
  },
  {
   "cell_type": "code",
   "execution_count": null,
   "id": "e1cf666c",
   "metadata": {},
   "outputs": [],
   "source": [
    "# Lets also specify the \"f1\" metric\n",
    "predictor = TabularPredictor(label=label, eval_metric='f1', path=save_path).fit(\n",
    "    train_data, auto_stack=True,\n",
    "    time_limit=30, hyperparameters={'FASTAI': {'num_epochs': 10}, 'GBM': {'num_boost_round': 200}}  # last 2 arguments are for quick demo, omit them in real applications\n",
    ")\n",
    "predictor.leaderboard(test_data)"
   ]
  },
  {
   "cell_type": "markdown",
   "id": "209aed94e755e675",
   "metadata": {},
   "source": [
    "Often stacking/bagging will produce superior accuracy than hyperparameter-tuning, but you may try combining both techniques (note: specifying `presets='best_quality'` in `fit()` simply sets `auto_stack=True`).\n",
    "\n",
    "## Decision Threshold Calibration\n",
    "\n",
    "Major metric score improvements can be achieved in binary classification for metrics such as `\"f1\"` and `\"balanced_accuracy\"` by adjusting the prediction decision threshold via `calibrate_decision_threshold` to a value other than the default 0.5.\n",
    "\n",
    "Below is an example of the `\"f1\"` score achieved on the test data with and without calibrating the decision threshold:"
   ]
  },
  {
   "cell_type": "code",
   "execution_count": null,
   "id": "10e6f148501e94c4",
   "metadata": {},
   "outputs": [],
   "source": [
    "print(f'Prior to calibration (predictor.decision_threshold={predictor.decision_threshold}):')\n",
    "scores = predictor.evaluate(test_data)\n",
    "\n",
    "calibrated_decision_threshold = predictor.calibrate_decision_threshold()\n",
    "predictor.set_decision_threshold(calibrated_decision_threshold)\n",
    "\n",
    "print(f'After calibration (predictor.decision_threshold={predictor.decision_threshold}):')\n",
    "scores_calibrated = predictor.evaluate(test_data)"
   ]
  },
  {
   "cell_type": "code",
   "execution_count": null,
   "id": "f18f7817111c6477",
   "metadata": {},
   "outputs": [],
   "source": [
    "for metric_name in scores:\n",
    "    metric_score = scores[metric_name]\n",
    "    metric_score_calibrated = scores_calibrated[metric_name]\n",
    "    decision_threshold = predictor.decision_threshold\n",
    "    print(f'decision_threshold={decision_threshold:.3f}\\t| metric=\"{metric_name}\"'\n",
    "          f'\\n\\ttest_score uncalibrated: {metric_score:.4f}'\n",
    "          f'\\n\\ttest_score   calibrated: {metric_score_calibrated:.4f}'\n",
    "          f'\\n\\ttest_score        delta: {metric_score_calibrated-metric_score:.4f}')"
   ]
  },
  {
   "cell_type": "markdown",
   "id": "9b689133a34fe3d9",
   "metadata": {},
   "source": [
    "Notice that calibrating for \"f1\" majorly improved the \"f1\" metric score, as well as the \"balanced_accuracy\" score, it harmed the \"accuracy\" score. Threshold calibration will often result in a tradeoff between performance on different metrics, and the user should keep this in mind.\n",
    "\n",
    "Instead of calibrating for \"f1\" specifically, we can calibrate for any metric if we want to maximize the score of that metric:"
   ]
  },
  {
   "cell_type": "code",
   "execution_count": null,
   "id": "251a1bf30667c186",
   "metadata": {},
   "outputs": [],
   "source": [
    "predictor.set_decision_threshold(0.5)  # Reset decision threshold\n",
    "for metric_name in ['f1', 'balanced_accuracy', 'mcc']:\n",
    "    metric_score = predictor.evaluate(test_data, silent=True)[metric_name]\n",
    "    calibrated_decision_threshold = predictor.calibrate_decision_threshold(metric=metric_name, verbose=False)\n",
    "    metric_score_calibrated = predictor.evaluate(\n",
    "        test_data, decision_threshold=calibrated_decision_threshold, silent=True\n",
    "    )[metric_name]\n",
    "    print(f'decision_threshold={calibrated_decision_threshold:.3f}\\t| metric=\"{metric_name}\"'\n",
    "          f'\\n\\ttest_score uncalibrated: {metric_score:.4f}'\n",
    "          f'\\n\\ttest_score   calibrated: {metric_score_calibrated:.4f}'\n",
    "          f'\\n\\ttest_score        delta: {metric_score_calibrated-metric_score:.4f}')"
   ]
  },
  {
   "cell_type": "markdown",
   "id": "b6bbe09b403c54b9",
   "metadata": {},
   "source": [
    "Instead of calibrating the decision threshold post-fit, you can have it automatically occur during the fit call by specifying the fit parameter `predictor.fit(..., calibrate_decision_threshold=True)`.\n",
    "\n",
    "Additional usage examples are below:"
   ]
  },
  {
   "cell_type": "code",
   "execution_count": null,
   "id": "6e24e98242a6398a",
   "metadata": {},
   "outputs": [],
   "source": [
    "# Will use the decision_threshold specified in `predictor.decision_threshold`, can be set via `predictor.set_decision_threshold`\n",
    "# y_pred = predictor.predict(test_data)\n",
    "# y_pred_08 = predictor.predict(test_data, decision_threshold=0.8)  # Specify a specific threshold to use only for this predict\n",
    "\n",
    "# y_pred_proba = predictor.predict_proba(test_data)\n",
    "# y_pred = predictor.predict_from_proba(y_pred_proba)  # Identical output to calling .predict(test_data)\n",
    "# y_pred_08 = predictor.predict_from_proba(y_pred_proba, decision_threshold=0.8)  # Identical output to calling .predict(test_data, decision_threshold=0.8)"
   ]
  },
  {
   "cell_type": "markdown",
   "id": "be2b3534",
   "metadata": {},
   "source": [
    "## Prediction options (inference)\n",
    "\n",
    "Even if you've started a new Python session since last calling `fit()`, you can still load a previously trained predictor from disk:"
   ]
  },
  {
   "cell_type": "code",
   "execution_count": null,
   "id": "67cc8c19",
   "metadata": {},
   "outputs": [],
   "source": [
    "predictor = TabularPredictor.load(save_path)  # `predictor.path` is another way to get the relative path needed to later load predictor."
   ]
  },
  {
   "cell_type": "markdown",
   "id": "13759fc5",
   "metadata": {},
   "source": [
    "Above `save_path` is the same folder previously passed to `TabularPredictor`, in which all the trained models have been saved. You can train easily models on one machine and deploy them on another. Simply copy the `save_path` folder to the new machine and specify its new path in `TabularPredictor.load()`.\n",
    "\n",
    "To find out the required feature columns to make predictions, call `predictor.features()`:"
   ]
  },
  {
   "cell_type": "code",
   "execution_count": null,
   "id": "dc1d292a",
   "metadata": {},
   "outputs": [],
   "source": [
    "predictor.features()"
   ]
  },
  {
   "cell_type": "markdown",
   "id": "91285570",
   "metadata": {},
   "source": [
    "We can make a prediction on an individual example rather than a full dataset:"
   ]
  },
  {
   "cell_type": "code",
   "execution_count": null,
   "id": "2b5df1ea",
   "metadata": {},
   "outputs": [],
   "source": [
    "datapoint = test_data_nolabel.iloc[[0]]  # Note: .iloc[0] won't work because it returns pandas Series instead of DataFrame\n",
    "print(datapoint)\n",
    "predictor.predict(datapoint)"
   ]
  },
  {
   "cell_type": "markdown",
   "id": "7f5e5d4c",
   "metadata": {},
   "source": [
    "To output predicted class probabilities instead of predicted classes, you can use:"
   ]
  },
  {
   "cell_type": "code",
   "execution_count": null,
   "id": "a9c88edf",
   "metadata": {},
   "outputs": [],
   "source": [
    "predictor.predict_proba(datapoint)  # returns a DataFrame that shows which probability corresponds to which class"
   ]
  },
  {
   "cell_type": "markdown",
   "id": "e118c312",
   "metadata": {},
   "source": [
    "By default, `predict()` and `predict_proba()` will utilize the model that AutoGluon thinks is most accurate, which is usually an ensemble of many individual models. Here's how to see which model this is:"
   ]
  },
  {
   "cell_type": "code",
   "execution_count": null,
   "id": "357da7e2",
   "metadata": {},
   "outputs": [],
   "source": [
    "predictor.model_best"
   ]
  },
  {
   "cell_type": "markdown",
   "id": "06f47f3a",
   "metadata": {},
   "source": [
    "We can instead specify a particular model to use for predictions (e.g. to reduce inference latency). Note that a 'model' in AutoGluon may refer to, for example, a single Neural Network, a bagged ensemble of many Neural Network copies trained on different training/validation splits, a weighted ensemble that aggregates the predictions of many other models, or a stacker model that operates on predictions output by other models. This is akin to viewing a Random Forest as one 'model' when it is in fact an ensemble of many decision trees.\n",
    "\n",
    "\n",
    "Before deciding which model to use, let's evaluate all of the models AutoGluon has previously trained on our test data:"
   ]
  },
  {
   "cell_type": "code",
   "execution_count": null,
   "id": "d5f02254",
   "metadata": {},
   "outputs": [],
   "source": [
    "predictor.leaderboard(test_data)"
   ]
  },
  {
   "cell_type": "markdown",
   "id": "11084a6a",
   "metadata": {},
   "source": [
    "The leaderboard shows each model's predictive performance on the test data (`score_test`) and validation data (`score_val`), as well as the time required to: produce predictions for the test data (`pred_time_val`), produce predictions on the validation data (`pred_time_val`), and train only this model (`fit_time`). Below, we show that a leaderboard can be produced without new data (just uses the data previously reserved for validation inside `fit`) and can display extra information about each model:"
   ]
  },
  {
   "cell_type": "code",
   "execution_count": null,
   "id": "2cd4b79f",
   "metadata": {},
   "outputs": [],
   "source": [
    "predictor.leaderboard(extra_info=True)"
   ]
  },
  {
   "cell_type": "markdown",
   "id": "13dff991",
   "metadata": {},
   "source": [
    "The expanded leaderboard shows properties like how many features are used by each model (`num_features`), which other models are ancestors whose predictions are required inputs for each model (`ancestors`), and how much memory each model and all its ancestors would occupy if simultaneously persisted (`memory_size_w_ancestors`). See the [leaderboard documentation](../../api/autogluon.tabular.TabularPredictor.leaderboard.rst) for full details.\n",
    "\n",
    "To show scores for other metrics, you can specify the `extra_metrics` argument when passing in `test_data`:"
   ]
  },
  {
   "cell_type": "code",
   "execution_count": null,
   "id": "dc39b3b1",
   "metadata": {},
   "outputs": [],
   "source": [
    "predictor.leaderboard(test_data, extra_metrics=['accuracy', 'balanced_accuracy', 'log_loss'])"
   ]
  },
  {
   "cell_type": "markdown",
   "id": "b01083ae",
   "metadata": {},
   "source": [
    "Notice that `log_loss` scores are negative.\n",
    "This is because metrics in AutoGluon are always shown in `higher_is_better` form.\n",
    "This means that metrics such as `log_loss` and `root_mean_squared_error` will have their signs FLIPPED, and values will be negative.\n",
    "This is necessary to avoid the user needing to know the metric to understand if higher is better when looking at leaderboard.\n",
    "\n",
    "One additional caveat: It is possible that `log_loss` values can be `-inf` when computed via `extra_metrics`.\n",
    "This is because the models were not optimized with `log_loss` in mind during training and\n",
    "may have prediction probabilities giving a class `0` (particularly common with K-Nearest-Neighbors models).\n",
    "Because `log_loss` gives infinite error when the correct class was given `0` probability, this results in a score of `-inf`.\n",
    "It is therefore recommended that `log_loss` should not be used as a secondary metric to determine model quality.\n",
    "Either use `log_loss` as the `eval_metric` or avoid it altogether.\n",
    "\n",
    "Here's how to specify a particular model to use for prediction instead of AutoGluon's default model-choice:"
   ]
  },
  {
   "cell_type": "code",
   "execution_count": null,
   "id": "1f938d89",
   "metadata": {},
   "outputs": [],
   "source": [
    "i = 0  # index of model to use\n",
    "model_to_use = predictor.model_names()[i]\n",
    "model_pred = predictor.predict(datapoint, model=model_to_use)\n",
    "print(\"Prediction from %s model: %s\" % (model_to_use, model_pred.iloc[0]))"
   ]
  },
  {
   "cell_type": "markdown",
   "id": "775cb4a5",
   "metadata": {},
   "source": [
    "We can easily access various information about the trained predictor or a particular model:"
   ]
  },
  {
   "cell_type": "code",
   "execution_count": null,
   "id": "5cd13fed",
   "metadata": {},
   "outputs": [],
   "source": [
    "all_models = predictor.model_names()\n",
    "model_to_use = all_models[i]\n",
    "specific_model = predictor._trainer.load_model(model_to_use)\n",
    "\n",
    "# Objects defined below are dicts of various information (not printed here as they are quite large):\n",
    "model_info = specific_model.get_info()\n",
    "predictor_information = predictor.info()"
   ]
  },
  {
   "cell_type": "markdown",
   "id": "640a8c38",
   "metadata": {},
   "source": [
    "The `predictor` also remembers what metric predictions should be evaluated with, which can be done with ground truth labels as follows:"
   ]
  },
  {
   "cell_type": "code",
   "execution_count": null,
   "id": "39b53a65",
   "metadata": {},
   "outputs": [],
   "source": [
    "y_pred_proba = predictor.predict_proba(test_data_nolabel)\n",
    "perf = predictor.evaluate_predictions(y_true=y_test, y_pred=y_pred_proba)"
   ]
  },
  {
   "cell_type": "markdown",
   "id": "f2932b36",
   "metadata": {},
   "source": [
    "Since the label columns remains in the `test_data` DataFrame, we can instead use the shorthand:"
   ]
  },
  {
   "cell_type": "code",
   "execution_count": null,
   "id": "5494aae6",
   "metadata": {},
   "outputs": [],
   "source": [
    "perf = predictor.evaluate(test_data)"
   ]
  },
  {
   "cell_type": "markdown",
   "id": "02223a4e",
   "metadata": {},
   "source": [
    "## Interpretability (feature importance)\n",
    "\n",
    "To better understand our trained predictor, we can estimate the overall importance of each feature:"
   ]
  },
  {
   "cell_type": "code",
   "execution_count": null,
   "id": "82ffd4bd",
   "metadata": {},
   "outputs": [],
   "source": [
    "predictor.feature_importance(test_data)"
   ]
  },
  {
   "cell_type": "markdown",
   "id": "954655e5",
   "metadata": {},
   "source": [
    "Computed via [permutation-shuffling](https://explained.ai/rf-importance/), these feature importance scores quantify the drop in predictive performance (of the already trained predictor) when one column's values are randomly shuffled across rows. The top features in this list contribute most to AutoGluon's accuracy (for predicting when/if a patient will be readmitted to the hospital). Features with non-positive importance score hardly contribute to the predictor's accuracy, or may even be actively harmful to include in the data (consider removing these features from your data and calling `fit` again). These scores facilitate interpretability of the predictor's global behavior (which features it relies on for *all* predictions).\n",
    "To get [local explanations](https://christophm.github.io/interpretable-ml-book/taxonomy-of-interpretability-methods.html) regarding which features influence a *particular* prediction, check out the [example notebooks](https://github.com/autogluon/autogluon/tree/master/examples/tabular/interpret) for explaining particular AutoGluon predictions using [Shapely values](https://github.com/slundberg/shap/).\n",
    "\n",
    "Before making judgement on if AutoGluon is more or less interpretable than another solution, we recommend reading [The Mythos of Model Interpretability](https://dl.acm.org/doi/pdf/10.1145/3236386.3241340) by Zachary Lipton, which covers why often-claimed interpretable models such as trees and linear models are rarely meaningfully more interpretable than more advanced models.\n",
    "\n",
    "## Accelerating inference\n",
    "\n",
    "We describe multiple ways to reduce the time it takes for AutoGluon to produce predictions.\n",
    "\n",
    "Before providing code examples, it is important to understand that\n",
    "there are several ways to accelerate inference in AutoGluon. The table below lists the options in order of priority.\n",
    "\n",
    "| Optimization                      | Inference Speedup                                                                                     | Cost                              | Notes                                                                                                                                                                                  |\n",
    "|:----------------------------------|:------------------------------------------------------------------------------------------------------|:----------------------------------|:---------------------------------------------------------------------------------------------------------------------------------------------------------------------------------------|\n",
    "| refit_full                        | At least 8x+, up to 160x (requires bagging)                                                           | -Quality, +FitTime                | Only provides speedup with bagging enabled.                                                                                                                                            |\n",
    "| persist                           | Up to 10x in online-inference                                                                         | ++MemoryUsage                     | If memory is not sufficient to persist model, speedup is not gained. Speedup is most effective in online-inference and is not relevant in batch inference.                             |\n",
    "| infer_limit                       | Configurable, ~up to 50x                                                                              | -Quality (Relative to speedup)    | If bagging is enabled, always use refit_full if using infer_limit.                                                                                                                     |\n",
    "| distill                           | ~Equals combined speedup of refit_full and infer_limit set to extreme values                          | --Quality, ++FitTime              | Not compatible with refit_full and infer_limit.                                                                                                                                        |\n",
    "| feature pruning                   | Typically at most 1.5x. More if willing to lower quality significantly.                               | -Quality?, ++FitTime              | Dependent on the existence of unimportant features in data. Call `predictor.feature_importance(test_data)` to gauge which features could be removed.                                   |\n",
    "| use faster hardware               | Usually at most 3x. Depends on hardware (ignoring GPU).                                               | +Hardware                         | As an example, an EC2 c6i.2xlarge is ~1.6x faster than an m5.2xlarge for a similar price. Laptops in particular might be slow compared to cloud instances.                             |\n",
    "| manual hyperparameters adjustment | Usually at most 2x assuming infer_limit is already specified.                                         | ---Quality?, +++UserMLExpertise   | Can be very complicated and is not recommended. Potential ways to get speedups this way is to reduce the number of trees in LightGBM, XGBoost, CatBoost, RandomForest, and ExtraTrees. |\n",
    "| manual data preprocessing         | Usually at most 1.2x assuming all other optimizations are specified and setting is online-inference.  | ++++UserMLExpertise, ++++UserCode | Only relevant for online-inference. This is not recommended as AutoGluon's default preprocessing is highly optimized.                                                                  |\n",
    "\n",
    "If bagging is enabled (num_bag_folds>0 or num_stack_levels>0 or using 'best_quality' preset), the order of inference optimizations should be:  \n",
    "1. refit_full  \n",
    "2. persist  \n",
    "3. infer_limit  \n",
    "\n",
    "If bagging is not enabled (num_bag_folds=0, num_stack_levels=0), the order of inference optimizations should be:  \n",
    "1. persist  \n",
    "2. infer_limit  \n",
    "\n",
    "If following these recommendations does not lead to a sufficiently fast model, you may consider the more advanced options in the table.\n",
    "\n",
    "### Keeping models in memory\n",
    "\n",
    "By default, AutoGluon loads models into memory one at a time and only when they are needed for prediction. This strategy is robust for large stacked/bagged ensembles, but leads to slower prediction times. If you plan to repeatedly make predictions (e.g. on new datapoints one at a time rather than one large test dataset), you can first specify that all models required for inference should be loaded into memory as follows:"
   ]
  },
  {
   "cell_type": "code",
   "execution_count": null,
   "id": "e2eced22",
   "metadata": {},
   "outputs": [],
   "source": [
    "predictor.persist()\n",
    "\n",
    "num_test = 20\n",
    "preds = np.array(['']*num_test, dtype='object')\n",
    "for i in range(num_test):\n",
    "    datapoint = test_data_nolabel.iloc[[i]]\n",
    "    pred_numpy = predictor.predict(datapoint, as_pandas=False)\n",
    "    preds[i] = pred_numpy[0]\n",
    "\n",
    "perf = predictor.evaluate_predictions(y_test[:num_test], preds, auxiliary_metrics=True)\n",
    "print(\"Predictions: \", preds)\n",
    "\n",
    "predictor.unpersist()  # free memory by clearing models, future predict() calls will load models from disk"
   ]
  },
  {
   "cell_type": "markdown",
   "id": "ec079f09",
   "metadata": {},
   "source": [
    "You can alternatively specify a particular model to persist via the `models` argument of `persist()`, or simply set `models='all'` to simultaneously load every single model that was trained during `fit`.\n",
    "\n",
    "### Inference speed as a fit constraint\n",
    "\n",
    "If you know your latency constraint prior to fitting the predictor, you can specify it explicitly as a fit argument.\n",
    "AutoGluon will then automatically train models in a fashion that attempts to satisfy the constraint.\n",
    "\n",
    "This constraint has two components: `infer_limit` and `infer_limit_batch_size`:  \n",
    "- `infer_limit` is the time in seconds to predict 1 row of data.\n",
    "For example, `infer_limit=0.05` means 50 ms per row of data,\n",
    "or 20 rows / second throughput.  \n",
    "- `infer_limit_batch_size` is the amount of rows passed at once to predict when calculating per-row speed.\n",
    "This is very important because `infer_limit_batch_size=1` (online-inference) is highly suboptimal as\n",
    "various operations have a fixed cost overhead regardless of data size. If you can pass your test data in bulk,\n",
    "you should specify `infer_limit_batch_size=10000`."
   ]
  },
  {
   "cell_type": "code",
   "execution_count": null,
   "id": "c845d3cd",
   "metadata": {},
   "outputs": [],
   "source": [
    "# At most 0.05 ms per row (20000 rows per second throughput)\n",
    "infer_limit = 0.00005\n",
    "# adhere to infer_limit with batches of size 10000 (batch-inference, easier to satisfy infer_limit)\n",
    "infer_limit_batch_size = 10000\n",
    "# adhere to infer_limit with batches of size 1 (online-inference, much harder to satisfy infer_limit)\n",
    "# infer_limit_batch_size = 1  # Note that infer_limit<0.02 when infer_limit_batch_size=1 can be difficult to satisfy.\n",
    "predictor_infer_limit = TabularPredictor(label=label, eval_metric=metric).fit(\n",
    "    train_data=train_data,\n",
    "    time_limit=30,\n",
    "    infer_limit=infer_limit,\n",
    "    infer_limit_batch_size=infer_limit_batch_size,\n",
    ")\n",
    "\n",
    "# NOTE: If bagging was enabled, it is important to call refit_full at this stage.\n",
    "#  infer_limit assumes that the user will call refit_full after fit.\n",
    "# predictor_infer_limit.refit_full()\n",
    "\n",
    "# NOTE: To align with inference speed calculated during fit, models must be persisted.\n",
    "predictor_infer_limit.persist()\n",
    "# Below is an optimized version that only persists the minimum required models for prediction.\n",
    "# predictor_infer_limit.persist('best')\n",
    "\n",
    "predictor_infer_limit.leaderboard()"
   ]
  },
  {
   "cell_type": "markdown",
   "id": "a69ab0da",
   "metadata": {},
   "source": [
    "Now we can test the inference speed of the final model and check if it satisfies the inference constraints."
   ]
  },
  {
   "cell_type": "code",
   "execution_count": null,
   "id": "0a668eac",
   "metadata": {},
   "outputs": [],
   "source": [
    "test_data_batch = test_data.sample(infer_limit_batch_size, replace=True, ignore_index=True)\n",
    "\n",
    "import time\n",
    "time_start = time.time()\n",
    "predictor_infer_limit.predict(test_data_batch)\n",
    "time_end = time.time()\n",
    "\n",
    "infer_time_per_row = (time_end - time_start) / len(test_data_batch)\n",
    "rows_per_second = 1 / infer_time_per_row\n",
    "infer_time_per_row_ratio = infer_time_per_row / infer_limit\n",
    "is_constraint_satisfied = infer_time_per_row_ratio <= 1\n",
    "\n",
    "print(f'Model is able to predict {round(rows_per_second, 1)} rows per second. (User-specified Throughput = {1 / infer_limit})')\n",
    "print(f'Model uses {round(infer_time_per_row_ratio * 100, 1)}% of infer_limit time per row.')\n",
    "print(f'Model satisfies inference constraint: {is_constraint_satisfied}')"
   ]
  },
  {
   "cell_type": "markdown",
   "id": "9d988fa3",
   "metadata": {},
   "source": [
    "### Using smaller ensemble or faster model for prediction\n",
    "\n",
    "Without having to retrain any models, one can construct alternative ensembles that aggregate individual models' predictions with different weighting schemes. These ensembles become smaller (and hence faster for prediction) if they assign nonzero weight to less models. You can produce a wide variety of ensembles with different accuracy-speed tradeoffs like this:"
   ]
  },
  {
   "cell_type": "code",
   "execution_count": null,
   "id": "1dcda6fd",
   "metadata": {},
   "outputs": [],
   "source": [
    "additional_ensembles = predictor.fit_weighted_ensemble(expand_pareto_frontier=True)\n",
    "print(\"Alternative ensembles you can use for prediction:\", additional_ensembles)\n",
    "\n",
    "predictor.leaderboard(only_pareto_frontier=True)"
   ]
  },
  {
   "cell_type": "markdown",
   "id": "edd8fe52",
   "metadata": {},
   "source": [
    "The resulting leaderboard will contain the most accurate model for a given inference-latency. You can select whichever model exhibits acceptable latency from the leaderboard and use it for prediction."
   ]
  },
  {
   "cell_type": "code",
   "execution_count": null,
   "id": "a757a79b",
   "metadata": {},
   "outputs": [],
   "source": [
    "model_for_prediction = additional_ensembles[0]\n",
    "predictions = predictor.predict(test_data, model=model_for_prediction)\n",
    "predictor.delete_models(models_to_delete=additional_ensembles, dry_run=False)  # delete these extra models so they don't affect rest of tutorial"
   ]
  },
  {
   "cell_type": "markdown",
   "id": "9158cc13",
   "metadata": {},
   "source": [
    "### Collapsing bagged ensembles via refit_full\n",
    "\n",
    "For an ensemble predictor trained with bagging (as done above), recall there are ~10 bagged copies of each individual model trained on different train/validation folds. We can collapse this bag of ~10 models into a single model that's fit to the full dataset, which can greatly reduce its memory/latency requirements (but may also reduce accuracy). Below we refit such a model for each original model but you can alternatively do this for just a particular model by specifying the `model` argument of `refit_full()`."
   ]
  },
  {
   "cell_type": "code",
   "execution_count": null,
   "id": "fd8ea890",
   "metadata": {},
   "outputs": [],
   "source": [
    "refit_model_map = predictor.refit_full()\n",
    "print(\"Name of each refit-full model corresponding to a previous bagged ensemble:\")\n",
    "print(refit_model_map)\n",
    "predictor.leaderboard(test_data)"
   ]
  },
  {
   "cell_type": "markdown",
   "id": "ee8a611c",
   "metadata": {},
   "source": [
    "This adds the refit-full models to the leaderboard and we can opt to use any of them for prediction just like any other model. Note `pred_time_test` and `pred_time_val` list the time taken to produce predictions with each model (in seconds) on the test/validation data. Since the refit-full models were trained using all of the data, there is no internal validation score (`score_val`) available for them. You can also call `refit_full()` with non-bagged models to refit the same models to your full dataset (there won't be memory/latency gains in this case but test accuracy may improve).\n",
    "\n",
    "### Model distillation\n",
    "\n",
    "While computationally-favorable, single individual models will usually have lower accuracy than weighted/stacked/bagged ensembles. [Model Distillation](https://arxiv.org/abs/2006.14284) offers one way to retain the computational benefits of a single model, while enjoying some of the accuracy-boost that comes with ensembling. The idea is to train the individual model (which we can call the student) to mimic the predictions of the full stack ensemble (the teacher). Like `refit_full()`, the `distill()` function will produce additional models we can opt to use for prediction."
   ]
  },
  {
   "cell_type": "code",
   "execution_count": null,
   "id": "13d8854f",
   "metadata": {},
   "outputs": [],
   "source": [
    "student_models = predictor.distill(time_limit=30)  # specify much longer time limit in real applications\n",
    "print(student_models)\n",
    "preds_student = predictor.predict(test_data_nolabel, model=student_models[0])\n",
    "print(f\"predictions from {student_models[0]}:\", list(preds_student)[:5])\n",
    "predictor.leaderboard(test_data)"
   ]
  },
  {
   "cell_type": "markdown",
   "id": "ba4a36ab",
   "metadata": {},
   "source": [
    "### Faster presets or hyperparameters\n",
    "\n",
    "Instead of trying to speed up a cumbersome trained model at prediction time, if you know inference latency or memory will be an issue at the outset, then you can adjust the training process accordingly to ensure `fit()` does not produce unwieldy models.\n",
    "\n",
    "One option is to specify more lightweight `presets`:"
   ]
  },
  {
   "cell_type": "code",
   "execution_count": null,
   "id": "3bd5e5e4",
   "metadata": {},
   "outputs": [],
   "source": [
    "presets = ['good_quality', 'optimize_for_deployment']\n",
    "predictor_light = TabularPredictor(label=label, eval_metric=metric).fit(train_data, presets=presets, time_limit=30)"
   ]
  },
  {
   "cell_type": "markdown",
   "id": "b8d97180",
   "metadata": {},
   "source": [
    "Another option is to specify more lightweight hyperparameters:"
   ]
  },
  {
   "cell_type": "code",
   "execution_count": null,
   "id": "3e808d32",
   "metadata": {},
   "outputs": [],
   "source": [
    "predictor_light = TabularPredictor(label=label, eval_metric=metric).fit(train_data, hyperparameters='very_light', time_limit=30)"
   ]
  },
  {
   "cell_type": "markdown",
   "id": "d49c182b",
   "metadata": {},
   "source": [
    "Here you can set `hyperparameters` to either 'light', 'very_light', or 'toy' to obtain progressively smaller (but less accurate) models and predictors. Advanced users may instead try manually specifying particular models' hyperparameters in order to make them faster/smaller.\n",
    "\n",
    "Finally, you may also exclude specific unwieldy models from being trained at all. Below we exclude models that tend to be slower (K Nearest Neighbors, Neural Networks):"
   ]
  },
  {
   "cell_type": "code",
   "execution_count": null,
   "id": "ae2298e4",
   "metadata": {},
   "outputs": [],
   "source": [
    "excluded_model_types = ['KNN', 'NN_TORCH']\n",
    "predictor_light = TabularPredictor(label=label, eval_metric=metric).fit(train_data, excluded_model_types=excluded_model_types, time_limit=30)"
   ]
  },
  {
   "cell_type": "markdown",
   "id": "7cd7ac48",
   "metadata": {},
   "source": [
    "### (Advanced) Cache preprocessed data\n",
    "\n",
    "If you are repeatedly predicting on the same data you can cache the preprocessed version of the data and\n",
    "directly send the preprocessed data to `predictor.predict` for faster inference:"
   ]
  },
  {
   "cell_type": "markdown",
   "id": "4aa0c796",
   "metadata": {},
   "source": [
    "```\n",
    "test_data_preprocessed = predictor.transform_features(test_data)\n",
    "\n",
    "# The following call will be faster than a normal predict call because we are skipping the preprocessing stage.\n",
    "predictions = predictor.predict(test_data_preprocessed, transform_features=False)\n",
    "```\n"
   ]
  },
  {
   "cell_type": "markdown",
   "id": "782040dc",
   "metadata": {},
   "source": [
    "Note that this is only useful in situations where you are repeatedly predicting on the same data.\n",
    "If this significantly speeds up your use-case, consider whether your current approach makes sense\n",
    "or if a cache on the predictions is a better solution. \n",
    "\n",
    "### (Advanced) Disable preprocessing\n",
    "\n",
    "If you would rather do data preprocessing outside of TabularPredictor,\n",
    "you can disable TabularPredictor's preprocessing entirely via:"
   ]
  },
  {
   "cell_type": "markdown",
   "id": "15ca510b",
   "metadata": {},
   "source": [
    "```\n",
    "predictor.fit(..., feature_generator=None, feature_metadata=YOUR_CUSTOM_FEATURE_METADATA)\n",
    "```\n"
   ]
  },
  {
   "cell_type": "markdown",
   "id": "6d32cbe6",
   "metadata": {},
   "source": [
    "Be warned that this removes ALL guardrails on data sanitization.\n",
    "It is very likely that you will run into errors doing this unless you are very familiar with AutoGluon.\n",
    "\n",
    "One instance where this can be helpful is if you have many problems\n",
    "that re-use the exact same data with the exact same features. If you had 30 tasks that re-use the same features,\n",
    "you could fit a `autogluon.features` feature generator once on the data, and then when you need to\n",
    "predict on the 30 tasks, preprocess the data only once and then send the preprocessed data to all 30 predictors.\n",
    "\n",
    "\n",
    "## If you encounter memory issues\n",
    "\n",
    "To reduce memory usage during training, you may try each of the following strategies individually or combinations of them (these may harm accuracy):\n",
    "\n",
    "- In `fit()`, set `excluded_model_types = ['KNN', 'XT' ,'RF']` (or some subset of these models).\n",
    "- Try different `presets` in `fit()`.\n",
    "- In `fit()`, set `hyperparameters = 'light'` or `hyperparameters = 'very_light'`.\n",
    "- Text fields in your table require substantial memory for N-gram featurization. To mitigate this in `fit()`, you can either: (1) add `'ignore_text'` to your `presets` list (to ignore text features), or (2) specify the argument:"
   ]
  },
  {
   "cell_type": "markdown",
   "id": "d30ebcf6",
   "metadata": {},
   "source": [
    "```\n",
    "from sklearn.feature_extraction.text import CountVectorizer\n",
    "from autogluon.features.generators import AutoMLPipelineFeatureGenerator\n",
    "feature_generator = AutoMLPipelineFeatureGenerator(vectorizer=CountVectorizer(min_df=30, ngram_range=(1, 3), max_features=MAX_NGRAM, dtype=np.uint8))\n",
    "```\n"
   ]
  },
  {
   "cell_type": "markdown",
   "id": "6f1b86fb",
   "metadata": {},
   "source": [
    "for example using `MAX_NGRAM = 1000` (try various values under 10000 to reduce the number of N-gram features used to represent each text field)\n",
    "\n",
    "In addition to reducing memory usage, many of the above strategies can also be used to reduce training times.\n",
    "\n",
    "To reduce memory usage during inference:\n",
    "\n",
    "- If trying to produce predictions for a large test dataset, break the test data into smaller chunks as demonstrated in [FAQ](tabular-faq.ipynb).\n",
    "\n",
    "- If models have been previously persisted in memory but inference-speed is not a major concern, call `predictor.unpersist()`.\n",
    "\n",
    "- If models have been previously persisted in memory, bagging was used in `fit()`, and inference-speed is a concern: call `predictor.refit_full()` and use one of the refit-full models for prediction (ensure this is the only model persisted in memory).\n",
    "\n",
    "\n",
    "\n",
    "## If you encounter disk space issues\n",
    "\n",
    "To reduce disk usage, you may try each of the following strategies individually or combinations of them:\n",
    "\n",
    "- Make sure to delete all `predictor.path` folders from previous `fit()` runs! These can eat up your free space if you call `fit()` many times. If you didn't specify `path`, AutoGluon still automatically saved its models to a folder called: \"AutogluonModels/ag-[TIMESTAMP]\", where TIMESTAMP records when `fit()` was called, so make sure to also delete these folders if you run low on free space.\n",
    "\n",
    "- Call `predictor.save_space()` to delete auxiliary files produced during `fit()`.\n",
    "\n",
    "- Call `predictor.delete_models(models_to_keep='best', dry_run=False)` if you only intend to use this predictor for inference going forward (will delete files required for non-prediction-related functionality like `fit_summary`).\n",
    "\n",
    "- In `fit()`, you can add `'optimize_for_deployment'` to the `presets` list, which will automatically invoke the previous two strategies after training.\n",
    "\n",
    "- Most of the above strategies to reduce memory usage will also reduce disk usage (but may harm accuracy).\n",
    "\n",
    "\n",
    "## References\n",
    "\n",
    "The following paper describes how AutoGluon internally operates on tabular data:\n",
    "\n",
    "Erickson et al. [AutoGluon-Tabular: Robust and Accurate AutoML for Structured Data](https://arxiv.org/abs/2003.06505). *Arxiv*, 2020.\n",
    "\n",
    "## Next Steps\n",
    "\n",
    "If you are interested in deployment optimization, refer to the [Predicting Columns in a Table - Deployment Optimization](advanced/tabular-deployment.ipynb) tutorial."
   ]
  }
 ],
 "metadata": {
  "availableInstances": [
   {
    "_defaultOrder": 0,
    "_isFastLaunch": true,
    "category": "General purpose",
    "gpuNum": 0,
    "hideHardwareSpecs": false,
    "memoryGiB": 4,
    "name": "ml.t3.medium",
    "vcpuNum": 2
   },
   {
    "_defaultOrder": 1,
    "_isFastLaunch": false,
    "category": "General purpose",
    "gpuNum": 0,
    "hideHardwareSpecs": false,
    "memoryGiB": 8,
    "name": "ml.t3.large",
    "vcpuNum": 2
   },
   {
    "_defaultOrder": 2,
    "_isFastLaunch": false,
    "category": "General purpose",
    "gpuNum": 0,
    "hideHardwareSpecs": false,
    "memoryGiB": 16,
    "name": "ml.t3.xlarge",
    "vcpuNum": 4
   },
   {
    "_defaultOrder": 3,
    "_isFastLaunch": false,
    "category": "General purpose",
    "gpuNum": 0,
    "hideHardwareSpecs": false,
    "memoryGiB": 32,
    "name": "ml.t3.2xlarge",
    "vcpuNum": 8
   },
   {
    "_defaultOrder": 4,
    "_isFastLaunch": true,
    "category": "General purpose",
    "gpuNum": 0,
    "hideHardwareSpecs": false,
    "memoryGiB": 8,
    "name": "ml.m5.large",
    "vcpuNum": 2
   },
   {
    "_defaultOrder": 5,
    "_isFastLaunch": false,
    "category": "General purpose",
    "gpuNum": 0,
    "hideHardwareSpecs": false,
    "memoryGiB": 16,
    "name": "ml.m5.xlarge",
    "vcpuNum": 4
   },
   {
    "_defaultOrder": 6,
    "_isFastLaunch": false,
    "category": "General purpose",
    "gpuNum": 0,
    "hideHardwareSpecs": false,
    "memoryGiB": 32,
    "name": "ml.m5.2xlarge",
    "vcpuNum": 8
   },
   {
    "_defaultOrder": 7,
    "_isFastLaunch": false,
    "category": "General purpose",
    "gpuNum": 0,
    "hideHardwareSpecs": false,
    "memoryGiB": 64,
    "name": "ml.m5.4xlarge",
    "vcpuNum": 16
   },
   {
    "_defaultOrder": 8,
    "_isFastLaunch": false,
    "category": "General purpose",
    "gpuNum": 0,
    "hideHardwareSpecs": false,
    "memoryGiB": 128,
    "name": "ml.m5.8xlarge",
    "vcpuNum": 32
   },
   {
    "_defaultOrder": 9,
    "_isFastLaunch": false,
    "category": "General purpose",
    "gpuNum": 0,
    "hideHardwareSpecs": false,
    "memoryGiB": 192,
    "name": "ml.m5.12xlarge",
    "vcpuNum": 48
   },
   {
    "_defaultOrder": 10,
    "_isFastLaunch": false,
    "category": "General purpose",
    "gpuNum": 0,
    "hideHardwareSpecs": false,
    "memoryGiB": 256,
    "name": "ml.m5.16xlarge",
    "vcpuNum": 64
   },
   {
    "_defaultOrder": 11,
    "_isFastLaunch": false,
    "category": "General purpose",
    "gpuNum": 0,
    "hideHardwareSpecs": false,
    "memoryGiB": 384,
    "name": "ml.m5.24xlarge",
    "vcpuNum": 96
   },
   {
    "_defaultOrder": 12,
    "_isFastLaunch": false,
    "category": "General purpose",
    "gpuNum": 0,
    "hideHardwareSpecs": false,
    "memoryGiB": 8,
    "name": "ml.m5d.large",
    "vcpuNum": 2
   },
   {
    "_defaultOrder": 13,
    "_isFastLaunch": false,
    "category": "General purpose",
    "gpuNum": 0,
    "hideHardwareSpecs": false,
    "memoryGiB": 16,
    "name": "ml.m5d.xlarge",
    "vcpuNum": 4
   },
   {
    "_defaultOrder": 14,
    "_isFastLaunch": false,
    "category": "General purpose",
    "gpuNum": 0,
    "hideHardwareSpecs": false,
    "memoryGiB": 32,
    "name": "ml.m5d.2xlarge",
    "vcpuNum": 8
   },
   {
    "_defaultOrder": 15,
    "_isFastLaunch": false,
    "category": "General purpose",
    "gpuNum": 0,
    "hideHardwareSpecs": false,
    "memoryGiB": 64,
    "name": "ml.m5d.4xlarge",
    "vcpuNum": 16
   },
   {
    "_defaultOrder": 16,
    "_isFastLaunch": false,
    "category": "General purpose",
    "gpuNum": 0,
    "hideHardwareSpecs": false,
    "memoryGiB": 128,
    "name": "ml.m5d.8xlarge",
    "vcpuNum": 32
   },
   {
    "_defaultOrder": 17,
    "_isFastLaunch": false,
    "category": "General purpose",
    "gpuNum": 0,
    "hideHardwareSpecs": false,
    "memoryGiB": 192,
    "name": "ml.m5d.12xlarge",
    "vcpuNum": 48
   },
   {
    "_defaultOrder": 18,
    "_isFastLaunch": false,
    "category": "General purpose",
    "gpuNum": 0,
    "hideHardwareSpecs": false,
    "memoryGiB": 256,
    "name": "ml.m5d.16xlarge",
    "vcpuNum": 64
   },
   {
    "_defaultOrder": 19,
    "_isFastLaunch": false,
    "category": "General purpose",
    "gpuNum": 0,
    "hideHardwareSpecs": false,
    "memoryGiB": 384,
    "name": "ml.m5d.24xlarge",
    "vcpuNum": 96
   },
   {
    "_defaultOrder": 20,
    "_isFastLaunch": false,
    "category": "General purpose",
    "gpuNum": 0,
    "hideHardwareSpecs": true,
    "memoryGiB": 0,
    "name": "ml.geospatial.interactive",
    "supportedImageNames": [
     "sagemaker-geospatial-v1-0"
    ],
    "vcpuNum": 0
   },
   {
    "_defaultOrder": 21,
    "_isFastLaunch": true,
    "category": "Compute optimized",
    "gpuNum": 0,
    "hideHardwareSpecs": false,
    "memoryGiB": 4,
    "name": "ml.c5.large",
    "vcpuNum": 2
   },
   {
    "_defaultOrder": 22,
    "_isFastLaunch": false,
    "category": "Compute optimized",
    "gpuNum": 0,
    "hideHardwareSpecs": false,
    "memoryGiB": 8,
    "name": "ml.c5.xlarge",
    "vcpuNum": 4
   },
   {
    "_defaultOrder": 23,
    "_isFastLaunch": false,
    "category": "Compute optimized",
    "gpuNum": 0,
    "hideHardwareSpecs": false,
    "memoryGiB": 16,
    "name": "ml.c5.2xlarge",
    "vcpuNum": 8
   },
   {
    "_defaultOrder": 24,
    "_isFastLaunch": false,
    "category": "Compute optimized",
    "gpuNum": 0,
    "hideHardwareSpecs": false,
    "memoryGiB": 32,
    "name": "ml.c5.4xlarge",
    "vcpuNum": 16
   },
   {
    "_defaultOrder": 25,
    "_isFastLaunch": false,
    "category": "Compute optimized",
    "gpuNum": 0,
    "hideHardwareSpecs": false,
    "memoryGiB": 72,
    "name": "ml.c5.9xlarge",
    "vcpuNum": 36
   },
   {
    "_defaultOrder": 26,
    "_isFastLaunch": false,
    "category": "Compute optimized",
    "gpuNum": 0,
    "hideHardwareSpecs": false,
    "memoryGiB": 96,
    "name": "ml.c5.12xlarge",
    "vcpuNum": 48
   },
   {
    "_defaultOrder": 27,
    "_isFastLaunch": false,
    "category": "Compute optimized",
    "gpuNum": 0,
    "hideHardwareSpecs": false,
    "memoryGiB": 144,
    "name": "ml.c5.18xlarge",
    "vcpuNum": 72
   },
   {
    "_defaultOrder": 28,
    "_isFastLaunch": false,
    "category": "Compute optimized",
    "gpuNum": 0,
    "hideHardwareSpecs": false,
    "memoryGiB": 192,
    "name": "ml.c5.24xlarge",
    "vcpuNum": 96
   },
   {
    "_defaultOrder": 29,
    "_isFastLaunch": true,
    "category": "Accelerated computing",
    "gpuNum": 1,
    "hideHardwareSpecs": false,
    "memoryGiB": 16,
    "name": "ml.g4dn.xlarge",
    "vcpuNum": 4
   },
   {
    "_defaultOrder": 30,
    "_isFastLaunch": false,
    "category": "Accelerated computing",
    "gpuNum": 1,
    "hideHardwareSpecs": false,
    "memoryGiB": 32,
    "name": "ml.g4dn.2xlarge",
    "vcpuNum": 8
   },
   {
    "_defaultOrder": 31,
    "_isFastLaunch": false,
    "category": "Accelerated computing",
    "gpuNum": 1,
    "hideHardwareSpecs": false,
    "memoryGiB": 64,
    "name": "ml.g4dn.4xlarge",
    "vcpuNum": 16
   },
   {
    "_defaultOrder": 32,
    "_isFastLaunch": false,
    "category": "Accelerated computing",
    "gpuNum": 1,
    "hideHardwareSpecs": false,
    "memoryGiB": 128,
    "name": "ml.g4dn.8xlarge",
    "vcpuNum": 32
   },
   {
    "_defaultOrder": 33,
    "_isFastLaunch": false,
    "category": "Accelerated computing",
    "gpuNum": 4,
    "hideHardwareSpecs": false,
    "memoryGiB": 192,
    "name": "ml.g4dn.12xlarge",
    "vcpuNum": 48
   },
   {
    "_defaultOrder": 34,
    "_isFastLaunch": false,
    "category": "Accelerated computing",
    "gpuNum": 1,
    "hideHardwareSpecs": false,
    "memoryGiB": 256,
    "name": "ml.g4dn.16xlarge",
    "vcpuNum": 64
   },
   {
    "_defaultOrder": 35,
    "_isFastLaunch": false,
    "category": "Accelerated computing",
    "gpuNum": 1,
    "hideHardwareSpecs": false,
    "memoryGiB": 61,
    "name": "ml.p3.2xlarge",
    "vcpuNum": 8
   },
   {
    "_defaultOrder": 36,
    "_isFastLaunch": false,
    "category": "Accelerated computing",
    "gpuNum": 4,
    "hideHardwareSpecs": false,
    "memoryGiB": 244,
    "name": "ml.p3.8xlarge",
    "vcpuNum": 32
   },
   {
    "_defaultOrder": 37,
    "_isFastLaunch": false,
    "category": "Accelerated computing",
    "gpuNum": 8,
    "hideHardwareSpecs": false,
    "memoryGiB": 488,
    "name": "ml.p3.16xlarge",
    "vcpuNum": 64
   },
   {
    "_defaultOrder": 38,
    "_isFastLaunch": false,
    "category": "Accelerated computing",
    "gpuNum": 8,
    "hideHardwareSpecs": false,
    "memoryGiB": 768,
    "name": "ml.p3dn.24xlarge",
    "vcpuNum": 96
   },
   {
    "_defaultOrder": 39,
    "_isFastLaunch": false,
    "category": "Memory Optimized",
    "gpuNum": 0,
    "hideHardwareSpecs": false,
    "memoryGiB": 16,
    "name": "ml.r5.large",
    "vcpuNum": 2
   },
   {
    "_defaultOrder": 40,
    "_isFastLaunch": false,
    "category": "Memory Optimized",
    "gpuNum": 0,
    "hideHardwareSpecs": false,
    "memoryGiB": 32,
    "name": "ml.r5.xlarge",
    "vcpuNum": 4
   },
   {
    "_defaultOrder": 41,
    "_isFastLaunch": false,
    "category": "Memory Optimized",
    "gpuNum": 0,
    "hideHardwareSpecs": false,
    "memoryGiB": 64,
    "name": "ml.r5.2xlarge",
    "vcpuNum": 8
   },
   {
    "_defaultOrder": 42,
    "_isFastLaunch": false,
    "category": "Memory Optimized",
    "gpuNum": 0,
    "hideHardwareSpecs": false,
    "memoryGiB": 128,
    "name": "ml.r5.4xlarge",
    "vcpuNum": 16
   },
   {
    "_defaultOrder": 43,
    "_isFastLaunch": false,
    "category": "Memory Optimized",
    "gpuNum": 0,
    "hideHardwareSpecs": false,
    "memoryGiB": 256,
    "name": "ml.r5.8xlarge",
    "vcpuNum": 32
   },
   {
    "_defaultOrder": 44,
    "_isFastLaunch": false,
    "category": "Memory Optimized",
    "gpuNum": 0,
    "hideHardwareSpecs": false,
    "memoryGiB": 384,
    "name": "ml.r5.12xlarge",
    "vcpuNum": 48
   },
   {
    "_defaultOrder": 45,
    "_isFastLaunch": false,
    "category": "Memory Optimized",
    "gpuNum": 0,
    "hideHardwareSpecs": false,
    "memoryGiB": 512,
    "name": "ml.r5.16xlarge",
    "vcpuNum": 64
   },
   {
    "_defaultOrder": 46,
    "_isFastLaunch": false,
    "category": "Memory Optimized",
    "gpuNum": 0,
    "hideHardwareSpecs": false,
    "memoryGiB": 768,
    "name": "ml.r5.24xlarge",
    "vcpuNum": 96
   },
   {
    "_defaultOrder": 47,
    "_isFastLaunch": false,
    "category": "Accelerated computing",
    "gpuNum": 1,
    "hideHardwareSpecs": false,
    "memoryGiB": 16,
    "name": "ml.g5.xlarge",
    "vcpuNum": 4
   },
   {
    "_defaultOrder": 48,
    "_isFastLaunch": false,
    "category": "Accelerated computing",
    "gpuNum": 1,
    "hideHardwareSpecs": false,
    "memoryGiB": 32,
    "name": "ml.g5.2xlarge",
    "vcpuNum": 8
   },
   {
    "_defaultOrder": 49,
    "_isFastLaunch": false,
    "category": "Accelerated computing",
    "gpuNum": 1,
    "hideHardwareSpecs": false,
    "memoryGiB": 64,
    "name": "ml.g5.4xlarge",
    "vcpuNum": 16
   },
   {
    "_defaultOrder": 50,
    "_isFastLaunch": false,
    "category": "Accelerated computing",
    "gpuNum": 1,
    "hideHardwareSpecs": false,
    "memoryGiB": 128,
    "name": "ml.g5.8xlarge",
    "vcpuNum": 32
   },
   {
    "_defaultOrder": 51,
    "_isFastLaunch": false,
    "category": "Accelerated computing",
    "gpuNum": 1,
    "hideHardwareSpecs": false,
    "memoryGiB": 256,
    "name": "ml.g5.16xlarge",
    "vcpuNum": 64
   },
   {
    "_defaultOrder": 52,
    "_isFastLaunch": false,
    "category": "Accelerated computing",
    "gpuNum": 4,
    "hideHardwareSpecs": false,
    "memoryGiB": 192,
    "name": "ml.g5.12xlarge",
    "vcpuNum": 48
   },
   {
    "_defaultOrder": 53,
    "_isFastLaunch": false,
    "category": "Accelerated computing",
    "gpuNum": 4,
    "hideHardwareSpecs": false,
    "memoryGiB": 384,
    "name": "ml.g5.24xlarge",
    "vcpuNum": 96
   },
   {
    "_defaultOrder": 54,
    "_isFastLaunch": false,
    "category": "Accelerated computing",
    "gpuNum": 8,
    "hideHardwareSpecs": false,
    "memoryGiB": 768,
    "name": "ml.g5.48xlarge",
    "vcpuNum": 192
   },
   {
    "_defaultOrder": 55,
    "_isFastLaunch": false,
    "category": "Accelerated computing",
    "gpuNum": 8,
    "hideHardwareSpecs": false,
    "memoryGiB": 1152,
    "name": "ml.p4d.24xlarge",
    "vcpuNum": 96
   },
   {
    "_defaultOrder": 56,
    "_isFastLaunch": false,
    "category": "Accelerated computing",
    "gpuNum": 8,
    "hideHardwareSpecs": false,
    "memoryGiB": 1152,
    "name": "ml.p4de.24xlarge",
    "vcpuNum": 96
   },
   {
    "_defaultOrder": 57,
    "_isFastLaunch": false,
    "category": "Accelerated computing",
    "gpuNum": 0,
    "hideHardwareSpecs": false,
    "memoryGiB": 32,
    "name": "ml.trn1.2xlarge",
    "vcpuNum": 8
   },
   {
    "_defaultOrder": 58,
    "_isFastLaunch": false,
    "category": "Accelerated computing",
    "gpuNum": 0,
    "hideHardwareSpecs": false,
    "memoryGiB": 512,
    "name": "ml.trn1.32xlarge",
    "vcpuNum": 128
   },
   {
    "_defaultOrder": 59,
    "_isFastLaunch": false,
    "category": "Accelerated computing",
    "gpuNum": 0,
    "hideHardwareSpecs": false,
    "memoryGiB": 512,
    "name": "ml.trn1n.32xlarge",
    "vcpuNum": 128
   }
  ],
  "kernelspec": {
   "display_name": "Python 3 (ipykernel)",
   "language": "python",
   "name": "python3"
  },
  "language_info": {
   "codemirror_mode": {
    "name": "ipython",
    "version": 3
   },
   "file_extension": ".py",
   "mimetype": "text/x-python",
   "name": "python",
   "nbconvert_exporter": "python",
   "pygments_lexer": "ipython3",
   "version": "3.11.5"
  }
 },
 "nbformat": 4,
 "nbformat_minor": 5
}
